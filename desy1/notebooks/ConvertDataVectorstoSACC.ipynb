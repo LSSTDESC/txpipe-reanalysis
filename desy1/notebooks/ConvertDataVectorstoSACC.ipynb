{
 "cells": [
  {
   "cell_type": "markdown",
   "metadata": {},
   "source": [
    "# Convert Data Vectors to SACC\n",
    "\n",
    "Really just make cosmic-shear only data from file already in SACC format and rename src->source to match TXPipe convention."
   ]
  },
  {
   "cell_type": "code",
   "execution_count": 1,
   "metadata": {},
   "outputs": [],
   "source": [
    "import sacc\n",
    "import numpy as np"
   ]
  },
  {
   "cell_type": "code",
   "execution_count": 2,
   "metadata": {},
   "outputs": [],
   "source": [
    "data_dir = '/global/cscratch1/sd/elp25/txpipe-reanalysis/desy1/data/'"
   ]
  },
  {
   "cell_type": "code",
   "execution_count": 3,
   "metadata": {},
   "outputs": [],
   "source": [
    "des_data = sacc.Sacc.load_fits(data_dir+'des_y1_3x2pt_sacc_data.fits')"
   ]
  },
  {
   "cell_type": "code",
   "execution_count": 5,
   "metadata": {},
   "outputs": [],
   "source": [
    "sacc_data = sacc.Sacc()\n",
    "\n",
    "n_srcs = 4\n",
    "\n",
    "# nz_lens\n",
    "#dndz = data['nz_lens'].read()\n",
    "#for i in range(1, n_lens+1):\n",
    "#    sacc_data.add_tracer('NZ', 'lens%d' % (i-1), dndz['Z_MID'], dndz['BIN%d' % i])\n",
    "\n",
    "# nz_src\n",
    "for i in range(0, n_srcs):\n",
    "    tr = des_data.get_tracer('src%d' % i)\n",
    "    sacc_data.add_tracer('NZ', 'source_%d' % (i), tr.z, tr.nz)\n",
    "\n",
    "# xip\n",
    "\n",
    "for i in range(0, n_srcs):\n",
    "    for j in range(i, n_srcs):\n",
    "        \n",
    "        theta, xip = des_data.get_theta_xi(\n",
    "            'galaxy_shear_xi_plus', \n",
    "            'src%d' % i,\n",
    "            'src%d' % j)\n",
    "        \n",
    "        #theta_min = min(bin_data.theta)\n",
    "        #theta_max = max(bin_data.theta)\n",
    "\n",
    "        #ij_msk = (xip['BIN1'] == i) & (xip['BIN2'] == j)\n",
    "        #xip_ij = xip[ij_msk]\n",
    "        #msk = (xip_ij['ANG'] > theta_min) & (xip_ij['ANG'] < theta_max)\n",
    "\n",
    "        #tot_msk.extend(msk.tolist())\n",
    "\n",
    "        sacc_data.add_theta_xi(\n",
    "            'galaxy_shear_xi_plus',\n",
    "            'source_%d' % (i),\n",
    "            'source_%d' % (j),\n",
    "            theta,\n",
    "            xip)\n",
    "\n",
    "for i in range(0, n_srcs):\n",
    "    for j in range(i, n_srcs):\n",
    "        \n",
    "        theta, xip = des_data.get_theta_xi(\n",
    "            'galaxy_shear_xi_minus', \n",
    "            'src%d' % i,\n",
    "            'src%d' % j)\n",
    "        \n",
    "        #theta_min = min(bin_data.theta)\n",
    "        #theta_max = max(bin_data.theta)\n",
    "\n",
    "        #ij_msk = (xip['BIN1'] == i) & (xip['BIN2'] == j)\n",
    "        #xip_ij = xip[ij_msk]\n",
    "        #msk = (xip_ij['ANG'] > theta_min) & (xip_ij['ANG'] < theta_max)\n",
    "\n",
    "        #tot_msk.extend(msk.tolist())\n",
    "\n",
    "        sacc_data.add_theta_xi(\n",
    "            'galaxy_shear_xi_minus',\n",
    "            'source_%d' % (i),\n",
    "            'source_%d' % (j),\n",
    "            theta,\n",
    "            xip)\n",
    "\n",
    "# covmat\n",
    "\n",
    "#sacc_data.add_covariance(cov_matrix)\n",
    "\n",
    "sacc_data.save_fits(data_dir+'desy1_cosmicshear_sacc_data.fits', overwrite=True)"
   ]
  }
 ],
 "metadata": {
  "kernelspec": {
   "display_name": "desc-python",
   "language": "python",
   "name": "desc-python"
  },
  "language_info": {
   "codemirror_mode": {
    "name": "ipython",
    "version": 3
   },
   "file_extension": ".py",
   "mimetype": "text/x-python",
   "name": "python",
   "nbconvert_exporter": "python",
   "pygments_lexer": "ipython3",
   "version": "3.7.6"
  }
 },
 "nbformat": 4,
 "nbformat_minor": 4
}
