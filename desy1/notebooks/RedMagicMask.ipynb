{
 "cells": [
  {
   "cell_type": "markdown",
   "metadata": {},
   "source": [
    "# Apply RedMagic Mask"
   ]
  },
  {
   "cell_type": "code",
   "execution_count": 1,
   "metadata": {},
   "outputs": [],
   "source": [
    "from astropy.table import Table\n",
    "import h5py as h\n",
    "import numpy as np\n",
    "import fitsio\n",
    "import healpy as hp"
   ]
  },
  {
   "cell_type": "code",
   "execution_count": 2,
   "metadata": {},
   "outputs": [],
   "source": [
    "data_dir = '/global/cscratch1/sd/elp25/txpipe-reanalysis/desy1/data/'"
   ]
  },
  {
   "cell_type": "code",
   "execution_count": 3,
   "metadata": {},
   "outputs": [
    {
     "name": "stdout",
     "output_type": "stream",
     "text": [
      "2pt_NG_mcal_1110.fits\t\t\t\tlens_photoz_stack.hdf5\n",
      "DES_Y1A1_3x2pt_redMaGiC_MASK_HPIX4096RING.fits\tshear_catalog_desy1.h5\n",
      "des_y1_3x2pt_sacc_data.fits\t\t\tshear_photoz_stack.hdf5\n",
      "desy1_cosmicshear_sacc_data.fits\n"
     ]
    }
   ],
   "source": [
    "!ls {data_dir}"
   ]
  },
  {
   "cell_type": "code",
   "execution_count": 4,
   "metadata": {},
   "outputs": [],
   "source": [
    "healpix_table = Table.read(data_dir+'DES_Y1A1_3x2pt_redMaGiC_MASK_HPIX4096RING.fits')"
   ]
  },
  {
   "cell_type": "code",
   "execution_count": 8,
   "metadata": {},
   "outputs": [
    {
     "data": {
      "text/plain": [
       "5237312"
      ]
     },
     "execution_count": 8,
     "metadata": {},
     "output_type": "execute_result"
    }
   ],
   "source": [
    "len(healpix_table['FRACGOOD'][mask_good])"
   ]
  },
  {
   "cell_type": "code",
   "execution_count": 7,
   "metadata": {},
   "outputs": [
    {
     "data": {
      "text/plain": [
       "5237312"
      ]
     },
     "execution_count": 7,
     "metadata": {},
     "output_type": "execute_result"
    }
   ],
   "source": [
    "mask_good = (healpix_table['FRACGOOD']==1.0)\n",
    "len(healpix_table['FRACGOOD'][mask_good])"
   ]
  },
  {
   "cell_type": "code",
   "execution_count": 9,
   "metadata": {},
   "outputs": [],
   "source": [
    "healpix_lookup = {}\n",
    "for i in range(len(healpix_table['HPIX'].data)):\n",
    "    healpix_lookup[healpix_table['HPIX'].data[i]] = healpix_table['FRACGOOD'].data[i]"
   ]
  },
  {
   "cell_type": "code",
   "execution_count": 10,
   "metadata": {},
   "outputs": [
    {
     "name": "stderr",
     "output_type": "stream",
     "text": [
      "/global/common/software/lsst/common/miniconda/py3.7-4.7.12.1-v1/envs/desc/lib/python3.7/site-packages/healpy/fitsfunc.py:352: UserWarning: If you are not specifying the input dtype and using the default np.float64 dtype of read_map(), please consider that it will change in a future version to None as to keep the same dtype of the input file: please explicitly set the dtype if it is important to you.\n",
      "  \"If you are not specifying the input dtype and using the default \"\n"
     ]
    },
    {
     "name": "stdout",
     "output_type": "stream",
     "text": [
      "NSIDE = 4096\n",
      "ORDERING = RING in fits file\n",
      "INDXSCHM = EXPLICIT\n"
     ]
    }
   ],
   "source": [
    "hpx = hp.read_map(data_dir+'DES_Y1A1_3x2pt_redMaGiC_MASK_HPIX4096RING.fits',0)"
   ]
  },
  {
   "cell_type": "code",
   "execution_count": 11,
   "metadata": {},
   "outputs": [],
   "source": [
    "nside = 4096"
   ]
  },
  {
   "cell_type": "code",
   "execution_count": 12,
   "metadata": {},
   "outputs": [
    {
     "data": {
      "image/png": "[encoded data removed]",
      "text/plain": [
       "<Figure size 612x388.8 with 2 Axes>"
      ]
     },
     "metadata": {
      "needs_background": "light"
     },
     "output_type": "display_data"
    }
   ],
   "source": [
    "hp.mollview(hpx)"
   ]
  },
  {
   "cell_type": "code",
   "execution_count": 13,
   "metadata": {},
   "outputs": [],
   "source": [
    "shear_cat = h.File('/global/cscratch1/sd/elp25/TXPipe/data/desy1/inputs/shear_catalog_desy1_merged.h5', 'r')"
   ]
  },
  {
   "cell_type": "code",
   "execution_count": 14,
   "metadata": {},
   "outputs": [],
   "source": [
    "def compute_mask(healpix_table, healpix_lookup, ras, decs):\n",
    "\n",
    "        #get the healpix indices for the ra and dec values\n",
    "        \n",
    "        phi = np.deg2rad(ras)\n",
    "        theta = 0.5 * np.pi - np.deg2rad(decs)\n",
    "        nside = 4096\n",
    "        ipixs = hp.ang2pix(nside, theta, phi)\n",
    "        \n",
    "        #get the fracgood values for those pixels\n",
    "        fracgoods = []\n",
    "        for ipix in ipixs:\n",
    "            try:\n",
    "                fracgoods.append(healpix_lookup[ipix])\n",
    "            except:\n",
    "                fracgoods.append(1.0)\n",
    "        fracgood = np.array(fracgoods)\n",
    "        radmask = np.zeros(ras.size, dtype=np.bool)\n",
    "        #radmask[np.where(fracgood > np.random.rand(ras.size))] = True\n",
    "        radmask[np.where(fracgood == 1.0)] = True\n",
    "\n",
    "        return radmask"
   ]
  },
  {
   "cell_type": "code",
   "execution_count": 15,
   "metadata": {},
   "outputs": [],
   "source": [
    "ras = np.zeros(1000000)\n",
    "radmask = np.zeros(1000000, dtype=np.bool)\n",
    "fracgood = 0.7\n",
    "radmask[np.where(fracgood > np.random.rand(1000000))] = True"
   ]
  },
  {
   "cell_type": "code",
   "execution_count": 17,
   "metadata": {},
   "outputs": [],
   "source": [
    "cut = [True,True,False]\n",
    "arr = np.array([1,2,3])"
   ]
  },
  {
   "cell_type": "code",
   "execution_count": 5,
   "metadata": {},
   "outputs": [
    {
     "data": {
      "text/plain": [
       "699410"
      ]
     },
     "execution_count": 5,
     "metadata": {},
     "output_type": "execute_result"
    }
   ],
   "source": [
    "len(ras[radmask])"
   ]
  },
  {
   "cell_type": "code",
   "execution_count": 125,
   "metadata": {},
   "outputs": [
    {
     "data": {
      "text/plain": [
       "<HDF5 file \"shear_catalog_desy1_merged.h5\" (mode r)>"
      ]
     },
     "execution_count": 125,
     "metadata": {},
     "output_type": "execute_result"
    }
   ],
   "source": [
    "shear_cat"
   ]
  },
  {
   "cell_type": "code",
   "execution_count": 15,
   "metadata": {},
   "outputs": [],
   "source": [
    "ras = shear_cat['metacal/ra'][()]"
   ]
  },
  {
   "cell_type": "code",
   "execution_count": 16,
   "metadata": {},
   "outputs": [],
   "source": [
    "decs = shear_cat['metacal/dec'][()]"
   ]
  },
  {
   "cell_type": "code",
   "execution_count": 17,
   "metadata": {},
   "outputs": [],
   "source": [
    "#shear_cat.close()#"
   ]
  },
  {
   "cell_type": "code",
   "execution_count": 18,
   "metadata": {},
   "outputs": [],
   "source": [
    "radmask = compute_mask(healpix_table, healpix_lookup, ras, decs)"
   ]
  },
  {
   "cell_type": "code",
   "execution_count": 23,
   "metadata": {},
   "outputs": [
    {
     "data": {
      "text/plain": [
       "array([0], dtype=int32)"
      ]
     },
     "execution_count": 23,
     "metadata": {},
     "output_type": "execute_result"
    }
   ],
   "source": [
    "np.unique(shear_cat['metacal/mcal_flags'][()])"
   ]
  },
  {
   "cell_type": "code",
   "execution_count": 19,
   "metadata": {},
   "outputs": [
    {
     "data": {
      "text/plain": [
       "array([False,  True])"
      ]
     },
     "execution_count": 19,
     "metadata": {},
     "output_type": "execute_result"
    }
   ],
   "source": [
    "np.unique(radmask)"
   ]
  },
  {
   "cell_type": "code",
   "execution_count": 22,
   "metadata": {},
   "outputs": [
    {
     "data": {
      "text/plain": [
       "30468231"
      ]
     },
     "execution_count": 22,
     "metadata": {},
     "output_type": "execute_result"
    }
   ],
   "source": [
    "len(radmask[radmask==True])"
   ]
  },
  {
   "cell_type": "code",
   "execution_count": 21,
   "metadata": {},
   "outputs": [
    {
     "data": {
      "text/plain": [
       "12.54667055574809"
      ]
     },
     "execution_count": 21,
     "metadata": {},
     "output_type": "execute_result"
    }
   ],
   "source": [
    "(len(radmask[radmask==False])/len(radmask))*100"
   ]
  },
  {
   "cell_type": "code",
   "execution_count": 70,
   "metadata": {},
   "outputs": [
    {
     "data": {
      "text/plain": [
       "34839418"
      ]
     },
     "execution_count": 70,
     "metadata": {},
     "output_type": "execute_result"
    }
   ],
   "source": [
    "len(decs)"
   ]
  },
  {
   "cell_type": "code",
   "execution_count": 71,
   "metadata": {},
   "outputs": [
    {
     "data": {
      "text/plain": [
       "34562488"
      ]
     },
     "execution_count": 71,
     "metadata": {},
     "output_type": "execute_result"
    }
   ],
   "source": [
    "len(decs[radmask])"
   ]
  },
  {
   "cell_type": "code",
   "execution_count": 72,
   "metadata": {},
   "outputs": [
    {
     "data": {
      "text/plain": [
       "-59.999995999999996"
      ]
     },
     "execution_count": 72,
     "metadata": {},
     "output_type": "execute_result"
    }
   ],
   "source": [
    "np.min(decs)"
   ]
  },
  {
   "cell_type": "code",
   "execution_count": 24,
   "metadata": {},
   "outputs": [],
   "source": [
    "southern_mask = decs<-35"
   ]
  },
  {
   "cell_type": "code",
   "execution_count": 26,
   "metadata": {},
   "outputs": [
    {
     "data": {
      "text/plain": [
       "26740223"
      ]
     },
     "execution_count": 26,
     "metadata": {},
     "output_type": "execute_result"
    }
   ],
   "source": [
    "len(decs[radmask&southern_mask])"
   ]
  },
  {
   "cell_type": "code",
   "execution_count": 28,
   "metadata": {},
   "outputs": [
    {
     "name": "stdout",
     "output_type": "stream",
     "text": [
      "dec\n"
     ]
    },
    {
     "name": "stderr",
     "output_type": "stream",
     "text": [
      "/global/common/software/lsst/common/miniconda/py3.7-4.7.12.1-v1/envs/desc/lib/python3.7/site-packages/ipykernel/__main__.py:7: H5pyDeprecationWarning: dataset.value has been deprecated. Use dataset[()] instead.\n"
     ]
    },
    {
     "name": "stdout",
     "output_type": "stream",
     "text": [
      "mcal_T\n",
      "mcal_T_1m\n",
      "mcal_T_1p\n",
      "mcal_T_2m\n",
      "mcal_T_2p\n",
      "mcal_flags\n",
      "mcal_g1\n",
      "mcal_g1_1m\n",
      "mcal_g1_1p\n",
      "mcal_g1_2m\n",
      "mcal_g1_2p\n",
      "mcal_g2\n",
      "mcal_g2_1m\n",
      "mcal_g2_1p\n",
      "mcal_g2_2m\n",
      "mcal_g2_2p\n",
      "mcal_mag_err_i\n",
      "mcal_mag_err_i_1m\n",
      "mcal_mag_err_i_1p\n",
      "mcal_mag_err_i_2m\n",
      "mcal_mag_err_i_2p\n",
      "mcal_mag_err_r\n",
      "mcal_mag_err_r_1m\n",
      "mcal_mag_err_r_1p\n",
      "mcal_mag_err_r_2m\n",
      "mcal_mag_err_r_2p\n",
      "mcal_mag_err_z\n",
      "mcal_mag_err_z_1m\n",
      "mcal_mag_err_z_1p\n",
      "mcal_mag_err_z_2m\n",
      "mcal_mag_err_z_2p\n",
      "mcal_mag_i\n",
      "mcal_mag_i_1m\n",
      "mcal_mag_i_1p\n",
      "mcal_mag_i_2m\n",
      "mcal_mag_i_2p\n",
      "mcal_mag_r\n",
      "mcal_mag_r_1m\n",
      "mcal_mag_r_1p\n",
      "mcal_mag_r_2m\n",
      "mcal_mag_r_2p\n",
      "mcal_mag_z\n",
      "mcal_mag_z_1m\n",
      "mcal_mag_z_1p\n",
      "mcal_mag_z_2m\n",
      "mcal_mag_z_2p\n",
      "mcal_psf_T_mean\n",
      "mcal_psf_g1\n",
      "mcal_psf_g2\n",
      "mcal_s2n\n",
      "mcal_s2n_1m\n",
      "mcal_s2n_1p\n",
      "mcal_s2n_2m\n",
      "mcal_s2n_2p\n",
      "objectId\n",
      "ra\n",
      "snr_i\n",
      "snr_r\n",
      "snr_z\n",
      "tilename\n",
      "region\n",
      "mean_z\n",
      "mean_z_1p\n",
      "mean_z_1m\n",
      "mean_z_2p\n",
      "mean_z_2m\n"
     ]
    }
   ],
   "source": [
    "dnames = ['dec', 'mcal_T', 'mcal_T_1m', 'mcal_T_1p', 'mcal_T_2m', 'mcal_T_2p', 'mcal_flags', 'mcal_g1', 'mcal_g1_1m', 'mcal_g1_1p', 'mcal_g1_2m', 'mcal_g1_2p', 'mcal_g2', 'mcal_g2_1m', 'mcal_g2_1p', 'mcal_g2_2m', 'mcal_g2_2p', 'mcal_mag_err_i', 'mcal_mag_err_i_1m', 'mcal_mag_err_i_1p', 'mcal_mag_err_i_2m', 'mcal_mag_err_i_2p', 'mcal_mag_err_r', 'mcal_mag_err_r_1m', 'mcal_mag_err_r_1p', 'mcal_mag_err_r_2m', 'mcal_mag_err_r_2p', 'mcal_mag_err_z', 'mcal_mag_err_z_1m', 'mcal_mag_err_z_1p', 'mcal_mag_err_z_2m', 'mcal_mag_err_z_2p', 'mcal_mag_i', 'mcal_mag_i_1m', 'mcal_mag_i_1p', 'mcal_mag_i_2m', 'mcal_mag_i_2p', 'mcal_mag_r', 'mcal_mag_r_1m', 'mcal_mag_r_1p', 'mcal_mag_r_2m', 'mcal_mag_r_2p', 'mcal_mag_z', 'mcal_mag_z_1m', 'mcal_mag_z_1p', 'mcal_mag_z_2m', 'mcal_mag_z_2p', 'mcal_psf_T_mean', 'mcal_psf_g1', 'mcal_psf_g2', 'mcal_s2n', 'mcal_s2n_1m', 'mcal_s2n_1p', 'mcal_s2n_2m', 'mcal_s2n_2p', 'objectId', 'ra', 'snr_i', 'snr_r', 'snr_z', 'tilename', 'region', 'mean_z', 'mean_z_1p', 'mean_z_1m', 'mean_z_2p', 'mean_z_2m'] \n",
    " \n",
    "f = h.File('/global/cscratch1/sd/elp25/TXPipe/data/desy1/inputs/shear_catalog_desy1_masked2.h5', 'w')\n",
    "g = f.create_group('metacal')\n",
    "for i in range(len(dnames)):\n",
    "    print(dnames[i])\n",
    "    g.create_dataset(dnames[i], data=shear_cat['/metacal/'+dnames[i]].value, dtype=shear_cat['/metacal/'+dnames[i]].dtype)\n",
    "g.create_dataset('mask', data=radmask&southern_mask, dtype=bool)\n",
    "metadata = {'catalog_type':'metacal'}\n",
    "g.attrs.update(metadata)"
   ]
  },
  {
   "cell_type": "code",
   "execution_count": 29,
   "metadata": {},
   "outputs": [],
   "source": [
    "f['metacal/redshift_true'] = f['metacal/mean_z']"
   ]
  },
  {
   "cell_type": "code",
   "execution_count": 30,
   "metadata": {},
   "outputs": [],
   "source": [
    "f.close()"
   ]
  },
  {
   "cell_type": "code",
   "execution_count": 39,
   "metadata": {},
   "outputs": [],
   "source": [
    "ff = h.File('/global/cscratch1/sd/elp25/TXPipe/data/desy1/inputs/shear_catalog_desy1_masked2.h5','r+')"
   ]
  },
  {
   "cell_type": "code",
   "execution_count": 40,
   "metadata": {},
   "outputs": [],
   "source": [
    "mask = ff['metacal/mask'][()]"
   ]
  },
  {
   "cell_type": "code",
   "execution_count": 41,
   "metadata": {},
   "outputs": [
    {
     "data": {
      "text/plain": [
       "26740223"
      ]
     },
     "execution_count": 41,
     "metadata": {},
     "output_type": "execute_result"
    }
   ],
   "source": [
    "len(ff['metacal/mask'][()][mask])"
   ]
  },
  {
   "cell_type": "code",
   "execution_count": 43,
   "metadata": {},
   "outputs": [],
   "source": [
    "ff.close()"
   ]
  },
  {
   "cell_type": "code",
   "execution_count": null,
   "metadata": {},
   "outputs": [],
   "source": []
  }
 ],
 "metadata": {
  "kernelspec": {
   "display_name": "desc-python",
   "language": "python",
   "name": "desc-python"
  },
  "language_info": {
   "codemirror_mode": {
    "name": "ipython",
    "version": 3
   },
   "file_extension": ".py",
   "mimetype": "text/x-python",
   "name": "python",
   "nbconvert_exporter": "python",
   "pygments_lexer": "ipython3",
   "version": "3.7.6"
  }
 },
 "nbformat": 4,
 "nbformat_minor": 4
}
