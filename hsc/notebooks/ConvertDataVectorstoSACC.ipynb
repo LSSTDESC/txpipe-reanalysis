{
 "cells": [
  {
   "cell_type": "markdown",
   "metadata": {},
   "source": [
    "# Convert Published HSC Data Vectors to SACC"
   ]
  },
  {
   "cell_type": "markdown",
   "metadata": {},
   "source": [
    "Downloaded from: http://th.nao.ac.jp/MEMBER/hamanatk/HSC16aCSTPCF/index.html"
   ]
  },
  {
   "cell_type": "code",
   "execution_count": 12,
   "metadata": {},
   "outputs": [],
   "source": [
    "import numpy as np\n",
    "import sacc\n",
    "import pandas as pd\n",
    "import h5py as h\n",
    "import matplotlib.pyplot as plt"
   ]
  },
  {
   "cell_type": "code",
   "execution_count": 13,
   "metadata": {},
   "outputs": [],
   "source": [
    "data_dir = '/global/cscratch1/sd/elp25/txpipe-reanalysis/hsc/data/'"
   ]
  },
  {
   "cell_type": "code",
   "execution_count": 14,
   "metadata": {},
   "outputs": [
    {
     "name": "stdout",
     "output_type": "stream",
     "text": [
      "hsc16a_cstpcf_h2020.cov.txt  photometry_catalog_hsc_nonmetacal.h5\n",
      "hsc16a_cstpcf_h2020.xim.txt  shear_catalog_hsc_nonmetacal.h5\n",
      "hsc16a_cstpcf_h2020.xip.txt\n"
     ]
    }
   ],
   "source": [
    "!ls {data_dir}/"
   ]
  },
  {
   "cell_type": "code",
   "execution_count": 15,
   "metadata": {},
   "outputs": [],
   "source": [
    "#cov = pd.read_table(data_dir+'/hsc16a_cstpcf_h2020.cov.txt',names=['i','j','Cov(i,j)'],skiprows=1,delim_whitespace=True)hsc16a_cstpcf_h2020.cov.txt"
   ]
  },
  {
   "cell_type": "code",
   "execution_count": 16,
   "metadata": {},
   "outputs": [],
   "source": [
    "## col-2:  xi_- (1x1)\n",
    "# col-3:  xi_- (1x2)\n",
    "# col-4:  xi_- (1x3)\n",
    "# col-5:  xi_- (1x4)\n",
    "# col-6:  xi_- (2x2)\n",
    "# col-7:  xi_- (2x3)\n",
    "# col-8:  xi_- (2x4)\n",
    "# col-9:  xi_- (3x3)\n",
    "# col-10: xi_- (3x4)\n",
    "# col-11: xi_- (4x4)"
   ]
  },
  {
   "cell_type": "code",
   "execution_count": 17,
   "metadata": {},
   "outputs": [],
   "source": [
    "cols = ['theta','xi11','xi12','xi13','xi14','xi22','xi23','xi24','xi33','xi34','xi44']\n",
    "data_vecs_xip = pd.read_csv(data_dir+'/hsc16a_cstpcf_h2020.xim.txt',\n",
    "            names=cols ,skiprows=12, delim_whitespace=True)"
   ]
  },
  {
   "cell_type": "code",
   "execution_count": 18,
   "metadata": {},
   "outputs": [],
   "source": [
    "cols = ['theta','xi11','xi12','xi13','xi14','xi22','xi23','xi24','xi33','xi34','xi44']\n",
    "data_vecs_xim = pd.read_csv(data_dir+'/hsc16a_cstpcf_h2020.xim.txt',\n",
    "            names=cols ,skiprows=12, delim_whitespace=True)"
   ]
  },
  {
   "cell_type": "code",
   "execution_count": 19,
   "metadata": {},
   "outputs": [
    {
     "name": "stdout",
     "output_type": "stream",
     "text": [
      "/global/cscratch1/sd/elp25/txpipe-reanalysis/hsc/notebooks\n"
     ]
    }
   ],
   "source": [
    "!pwd"
   ]
  },
  {
   "cell_type": "code",
   "execution_count": 22,
   "metadata": {},
   "outputs": [],
   "source": [
    "# From CCL tutorial, sample fake redshift distribution\n",
    "z = np.linspace(0., 3., 200)\n",
    "i_lim = 26. # Limiting i-band magnitude\n",
    "z0 = 0.0417*i_lim - 0.744\n",
    "\n",
    "ell = np.arange(2, 2000)\n",
    "delta_ell = ell[1]-ell[0]\n",
    "Ngal = 46. * 100.31 * (i_lim - 25.) # Normalisation, galaxies/arcmin^2\n",
    "pz = 1./(2.*z0) * (z / z0)**2. * np.exp(-z/z0) # Redshift distribution, p(z)\n",
    "dNdz = Ngal * pz # Number density distribution"
   ]
  },
  {
   "cell_type": "markdown",
   "metadata": {},
   "source": [
    "## SACC"
   ]
  },
  {
   "cell_type": "code",
   "execution_count": 23,
   "metadata": {},
   "outputs": [
    {
     "name": "stdout",
     "output_type": "stream",
     "text": [
      "adding tracer  0\n",
      "adding tracer  1\n",
      "adding tracer  2\n",
      "adding tracer  3\n",
      "adding data for combo, 00\n",
      "adding data for combo, 01\n",
      "adding data for combo, 02\n",
      "adding data for combo, 03\n",
      "adding data for combo, 11\n",
      "adding data for combo, 12\n",
      "adding data for combo, 13\n",
      "adding data for combo, 22\n",
      "adding data for combo, 23\n",
      "adding data for combo, 33\n"
     ]
    }
   ],
   "source": [
    "sacc_data = sacc.Sacc()\n",
    "\n",
    "n_srcs = 4\n",
    "\n",
    "# nz_lens\n",
    "#dndz = data['nz_lens'].read()\n",
    "#for i in range(1, n_lens+1):\n",
    "#    sacc_data.add_tracer('NZ', 'lens%d' % (i-1), dndz['Z_MID'], dndz['BIN%d' % i])\n",
    "\n",
    "#placeholder nz for now \n",
    "\n",
    "# nz_src\n",
    "for i in range(0, n_srcs):\n",
    "    print('adding tracer ',i)\n",
    "    sacc_data.add_tracer('NZ', 'source_%d' % (i), z, dNdz)\n",
    "\n",
    "# xip\n",
    "\n",
    "for i in range(0, n_srcs):\n",
    "    for j in range(i, n_srcs):\n",
    "        print('adding data for combo, '+str(i)+str(j))\n",
    "        theta = data_vecs_xip.theta\n",
    "        xip = data_vecs_xip['xi'+str(i+1)+str(j+1)]\n",
    "        \n",
    "        #theta_min = min(bin_data.theta)\n",
    "        #theta_max = max(bin_data.theta)\n",
    "\n",
    "        #ij_msk = (xip['BIN1'] == i) & (xip['BIN2'] == j)\n",
    "        #xip_ij = xip[ij_msk]\n",
    "        #msk = (xip_ij['ANG'] > theta_min) & (xip_ij['ANG'] < theta_max)\n",
    "\n",
    "        #tot_msk.extend(msk.tolist())\n",
    "\n",
    "        sacc_data.add_theta_xi(\n",
    "            'galaxy_shear_xi_plus',\n",
    "            'source_%d' % (i),\n",
    "            'source_%d' % (j),\n",
    "            theta,\n",
    "            xip)\n",
    "\n",
    "for i in range(0, n_srcs):\n",
    "    for j in range(i, n_srcs):\n",
    "        \n",
    "        theta = data_vecs_xim.theta\n",
    "        xim = data_vecs_xim['xi'+str(i+1)+str(j+1)]\n",
    "\n",
    "        sacc_data.add_theta_xi(\n",
    "            'galaxy_shear_xi_minus',\n",
    "            'source_%d' % (i),\n",
    "            'source_%d' % (j),\n",
    "            theta,\n",
    "            xim)\n",
    "\n",
    "# covmat\n",
    "\n",
    "#sacc_data.add_covariance(cov_matrix)\n",
    "\n",
    "sacc_data.save_fits(data_dir+'/hsc_cosmicshear_sacc_data.fits', overwrite=True)"
   ]
  },
  {
   "cell_type": "code",
   "execution_count": 21,
   "metadata": {},
   "outputs": [
    {
     "name": "stdout",
     "output_type": "stream",
     "text": [
      "/global/cscratch1/sd/elp25/txpipe-reanalysis/hsc/notebooks\n"
     ]
    }
   ],
   "source": [
    "!pwd"
   ]
  },
  {
   "cell_type": "code",
   "execution_count": null,
   "metadata": {},
   "outputs": [],
   "source": []
  },
  {
   "cell_type": "code",
   "execution_count": null,
   "metadata": {},
   "outputs": [],
   "source": []
  },
  {
   "cell_type": "code",
   "execution_count": null,
   "metadata": {},
   "outputs": [],
   "source": []
  }
 ],
 "metadata": {
  "kernelspec": {
   "display_name": "desc-python",
   "language": "python",
   "name": "desc-python"
  },
  "language_info": {
   "codemirror_mode": {
    "name": "ipython",
    "version": 3
   },
   "file_extension": ".py",
   "mimetype": "text/x-python",
   "name": "python",
   "nbconvert_exporter": "python",
   "pygments_lexer": "ipython3",
   "version": "3.7.6"
  }
 },
 "nbformat": 4,
 "nbformat_minor": 4
}
