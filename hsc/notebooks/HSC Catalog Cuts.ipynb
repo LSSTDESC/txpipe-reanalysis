{
 "cells": [
  {
   "cell_type": "markdown",
   "metadata": {},
   "source": [
    "# HSC Catalog Cuts"
   ]
  },
  {
   "cell_type": "code",
   "execution_count": 1,
   "metadata": {},
   "outputs": [],
   "source": [
    "import matplotlib.pyplot as plt\n",
    "import numpy as np\n",
    "import h5py as h\n",
    "import glob\n",
    "from astropy.table import Table, vstack"
   ]
  },
  {
   "cell_type": "code",
   "execution_count": 2,
   "metadata": {},
   "outputs": [],
   "source": [
    "import pandas as pd"
   ]
  },
  {
   "cell_type": "code",
   "execution_count": 4,
   "metadata": {},
   "outputs": [],
   "source": [
    "hscdir = '/global/cfs/cdirs/lsst/groups/LSS/HSC_data/'"
   ]
  },
  {
   "cell_type": "code",
   "execution_count": 5,
   "metadata": {},
   "outputs": [],
   "source": [
    "def getdata(filename):\n",
    "    hsc_shear = Table.read(hscdir + filename, memmap=True) \n",
    "    return hsc_shear"
   ]
  },
  {
   "cell_type": "code",
   "execution_count": 6,
   "metadata": {},
   "outputs": [],
   "source": [
    "hscfiles = ['HSC_WIDE_GAMA09H.fits',\n",
    "             'HSC_WIDE_GAMA15H.fits', 'HSC_WIDE_HECTOMAP.fits',\n",
    "             'HSC_WIDE_VVDS_part1.fits','HSC_WIDE_VVDS_part2.fits',\n",
    "             'HSC_WIDE_WIDE12H.fits','HSC_WIDE_XMM.fits']"
   ]
  },
  {
   "cell_type": "code",
   "execution_count": 7,
   "metadata": {},
   "outputs": [
    {
     "name": "stdout",
     "output_type": "stream",
     "text": [
      "loading data\n",
      "loaded data\n"
     ]
    }
   ],
   "source": [
    "tables = []\n",
    "print('loading data')\n",
    "for i in range(len(hscfiles)):\n",
    "    d = getdata(hscfiles[i])\n",
    "    tables.append(d)\n",
    "print('loaded data')\n",
    "#Joining the tables\n",
    "hsc_shearall = vstack(tables)"
   ]
  },
  {
   "cell_type": "code",
   "execution_count": 10,
   "metadata": {},
   "outputs": [
    {
     "name": "stdout",
     "output_type": "stream",
     "text": [
      "object_id\n",
      "object_id_isnull\n",
      "ra\n",
      "ra_isnull\n",
      "dec\n",
      "dec_isnull\n",
      "tract\n",
      "tract_isnull\n",
      "patch\n",
      "patch_isnull\n",
      "merge_peak_g\n",
      "merge_peak_g_isnull\n",
      "merge_peak_r\n",
      "merge_peak_r_isnull\n",
      "merge_peak_i\n",
      "merge_peak_i_isnull\n",
      "merge_peak_z\n",
      "merge_peak_z_isnull\n",
      "merge_peak_y\n",
      "merge_peak_y_isnull\n",
      "gcountinputs\n",
      "gcountinputs_isnull\n",
      "rcountinputs\n",
      "rcountinputs_isnull\n",
      "icountinputs\n",
      "icountinputs_isnull\n",
      "zcountinputs\n",
      "zcountinputs_isnull\n",
      "ycountinputs\n",
      "ycountinputs_isnull\n",
      "iflags_pixel_bright_object_center\n",
      "iflags_pixel_bright_object_center_isnull\n",
      "iflags_pixel_bright_object_any\n",
      "iflags_pixel_bright_object_any_isnull\n",
      "iclassification_extendedness\n",
      "iclassification_extendedness_isnull\n",
      "iblendedness_abs_flux\n",
      "iblendedness_abs_flux_isnull\n",
      "a_g\n",
      "a_g_isnull\n",
      "a_r\n",
      "a_r_isnull\n",
      "a_i\n",
      "a_i_isnull\n",
      "a_z\n",
      "a_z_isnull\n",
      "a_y\n",
      "a_y_isnull\n",
      "gcmodel_flux\n",
      "gcmodel_flux_isnull\n",
      "rcmodel_flux\n",
      "rcmodel_flux_isnull\n",
      "icmodel_flux\n",
      "icmodel_flux_isnull\n",
      "zcmodel_flux\n",
      "zcmodel_flux_isnull\n",
      "ycmodel_flux\n",
      "ycmodel_flux_isnull\n",
      "gcmodel_flux_err\n",
      "gcmodel_flux_err_isnull\n",
      "rcmodel_flux_err\n",
      "rcmodel_flux_err_isnull\n",
      "icmodel_flux_err\n",
      "icmodel_flux_err_isnull\n",
      "zcmodel_flux_err\n",
      "zcmodel_flux_err_isnull\n",
      "ycmodel_flux_err\n",
      "ycmodel_flux_err_isnull\n",
      "gcmodel_flux_flags\n",
      "gcmodel_flux_flags_isnull\n",
      "rcmodel_flux_flags\n",
      "rcmodel_flux_flags_isnull\n",
      "icmodel_flux_flags\n",
      "icmodel_flux_flags_isnull\n",
      "zcmodel_flux_flags\n",
      "zcmodel_flux_flags_isnull\n",
      "ycmodel_flux_flags\n",
      "ycmodel_flux_flags_isnull\n",
      "gcmodel_mag\n",
      "gcmodel_mag_isnull\n",
      "rcmodel_mag\n",
      "rcmodel_mag_isnull\n",
      "icmodel_mag\n",
      "icmodel_mag_isnull\n",
      "zcmodel_mag\n",
      "zcmodel_mag_isnull\n",
      "ycmodel_mag\n",
      "ycmodel_mag_isnull\n",
      "gcmodel_mag_err\n",
      "gcmodel_mag_err_isnull\n",
      "rcmodel_mag_err\n",
      "rcmodel_mag_err_isnull\n",
      "icmodel_mag_err\n",
      "icmodel_mag_err_isnull\n",
      "zcmodel_mag_err\n",
      "zcmodel_mag_err_isnull\n",
      "ycmodel_mag_err\n",
      "ycmodel_mag_err_isnull\n",
      "pz_mean_eab\n",
      "pz_mean_eab_isnull\n",
      "pz_mode_eab\n",
      "pz_mode_eab_isnull\n",
      "pz_best_eab\n",
      "pz_best_eab_isnull\n",
      "pz_mc_eab\n",
      "pz_mc_eab_isnull\n",
      "ishape_hsm_regauss_e1\n",
      "ishape_hsm_regauss_e1_isnull\n",
      "ishape_hsm_regauss_e2\n",
      "ishape_hsm_regauss_e2_isnull\n",
      "ishape_hsm_regauss_sigma\n",
      "ishape_hsm_regauss_sigma_isnull\n",
      "ishape_hsm_regauss_resolution\n",
      "ishape_hsm_regauss_resolution_isnull\n",
      "ishape_hsm_regauss_flags\n",
      "ishape_hsm_regauss_flags_isnull\n",
      "ishape_hsm_moments_11\n",
      "ishape_hsm_moments_11_isnull\n",
      "ishape_hsm_moments_22\n",
      "ishape_hsm_moments_22_isnull\n",
      "ishape_hsm_moments_12\n",
      "ishape_hsm_moments_12_isnull\n",
      "ishape_hsm_psfmoments_11\n",
      "ishape_hsm_psfmoments_11_isnull\n",
      "ishape_hsm_psfmoments_22\n",
      "ishape_hsm_psfmoments_22_isnull\n",
      "ishape_hsm_psfmoments_12\n",
      "ishape_hsm_psfmoments_12_isnull\n",
      "clean_photometry\n",
      "clean_photometry_isnull\n",
      "wl_fulldepth_fullcolor\n",
      "wl_fulldepth_fullcolor_isnull\n",
      "ishape_hsm_regauss_derived_shape_weight\n",
      "ishape_hsm_regauss_derived_shape_weight_isnull\n",
      "ishape_hsm_regauss_derived_shear_bias_m\n",
      "ishape_hsm_regauss_derived_shear_bias_m_isnull\n",
      "ishape_hsm_regauss_derived_shear_bias_c1\n",
      "ishape_hsm_regauss_derived_shear_bias_c1_isnull\n",
      "ishape_hsm_regauss_derived_shear_bias_c2\n",
      "ishape_hsm_regauss_derived_shear_bias_c2_isnull\n",
      "ishape_hsm_regauss_derived_sigma_e\n",
      "ishape_hsm_regauss_derived_sigma_e_isnull\n",
      "ishape_hsm_regauss_derived_rms_e\n",
      "ishape_hsm_regauss_derived_rms_e_isnull\n"
     ]
    }
   ],
   "source": [
    "for col in hsc_shearall.columns:\n",
    "    print(col)"
   ]
  },
  {
   "cell_type": "code",
   "execution_count": 3,
   "metadata": {},
   "outputs": [],
   "source": [
    "df = pd.read_pickle('/global/cscratch1/sd/elp25/txpipe-reanalysis/hsc/data/hsc_cat.pkl')"
   ]
  },
  {
   "cell_type": "code",
   "execution_count": 4,
   "metadata": {},
   "outputs": [],
   "source": [
    "#is_primary = (df['idetect_is_primary']==True)\n",
    "#deblend = (df['ideblend_skipped'] ==False)\n",
    "#bad_centroid = (df['iflags_badcentroid']==False)\n",
    "#centroid_flag = (df['centroid_sdss_flags']==False)\n",
    "#pixel_edge = (df['iflags_pixel_edge']==False)\n",
    "#pixel_interpolated = (df['iflags_pixel_interpolated_center']==False)\n",
    "#pixel_saturated = (df['iflags_pixel_saturated_center']==False)\n",
    "#pixel_cr = (df['iflags_pixel_cr_center']==False)\n",
    "#pixel_bad = (df['flags_pixel_bad']==False)\n",
    "#pixel_suspect = (df['iflags_pixel_suspect_center']==False)\n",
    "#pixel_clipped = (df['flags_pixel_clipped_any']==False)"
   ]
  },
  {
   "cell_type": "code",
   "execution_count": 5,
   "metadata": {},
   "outputs": [
    {
     "name": "stdout",
     "output_type": "stream",
     "text": [
      "regauss_flags\n",
      "regauss_sigma\n",
      "extendedness\n",
      "flux\n",
      "regauss_resolution\n",
      "regauss_e1\n",
      "sigma_cut\n",
      "blendedness\n",
      "fluxes\n"
     ]
    }
   ],
   "source": [
    "regauss_flag = (df['ishape_hsm_regauss_flags']==False)\n",
    "print('regauss_flags')\n",
    "regaus_sigma_nan = (df['ishape_hsm_regauss_sigma'] !=np.nan)\n",
    "print('regauss_sigma')\n",
    "extendedness = (df['iclassification_extendedness']==1)\n",
    "print('extendedness')\n",
    "flux_cmodel = (df['icmodel_flux']/df['icmodel_flux_err']>=10)\n",
    "print('flux')\n",
    "regauss_resolution = (df['ishape_hsm_regauss_resolution']>=0.3)\n",
    "print('regauss_resolution')\n",
    "regauss_e = ((df['ishape_hsm_regauss_e1']**2+df['ishape_hsm_regauss_e2']**2)**(1/2)<2)\n",
    "print('regauss_e1')\n",
    "regauss_sigma_cut1 = (0<=df['ishape_hsm_regauss_sigma'])\n",
    "regauss_sigma_cut2 = (df['ishape_hsm_regauss_sigma']<=0.4)\n",
    "print('sigma_cut')\n",
    "imag_cut = (df['icmodel_mag']-df['a_i']<=24.5)\n",
    "#print('mag_cmodel')\n",
    "blendedness_abs_flux = (df['iblendedness_abs_flux']< 10**(-0.375))\n",
    "print('blendedness')\n",
    "gflux_cut = (df['icmodel_flux']/df['gcmodel_flux_err']>=5)\n",
    "rflux_cut = (df['rcmodel_flux']/df['rcmodel_flux_err']>=5)\n",
    "zflux_cut = (df['zcmodel_flux']/df['zcmodel_flux_err']>=5)\n",
    "yflux_cut = (df['ycmodel_flux']/df['ycmodel_flux_err']>=5)\n",
    "print('fluxes')"
   ]
  },
  {
   "cell_type": "code",
   "execution_count": 6,
   "metadata": {},
   "outputs": [],
   "source": [
    "all_cuts = (regauss_flag) & (regaus_sigma_nan) & (extendedness) & (flux_cmodel) & (regauss_resolution) & (regauss_e) & (regauss_sigma_cut1) & (regauss_sigma_cut2) & (blendedness_abs_flux) & (gflux_cut) & (rflux_cut) & (zflux_cut) & (yflux_cut) & (imag_cut)"
   ]
  },
  {
   "cell_type": "code",
   "execution_count": 8,
   "metadata": {},
   "outputs": [
    {
     "data": {
      "text/plain": [
       "20711894"
      ]
     },
     "execution_count": 8,
     "metadata": {},
     "output_type": "execute_result"
    }
   ],
   "source": [
    "len(df[all_cuts])"
   ]
  },
  {
   "cell_type": "code",
   "execution_count": 53,
   "metadata": {},
   "outputs": [
    {
     "data": {
      "text/plain": [
       "array([ 0.,  1., nan, ..., nan, nan, nan], dtype=float32)"
      ]
     },
     "execution_count": 53,
     "metadata": {},
     "output_type": "execute_result"
    }
   ],
   "source": [
    "np.unique(df['iclassification_extendedness'])"
   ]
  },
  {
   "cell_type": "code",
   "execution_count": 9,
   "metadata": {},
   "outputs": [],
   "source": [
    "ishape_hsm_regauss_e1_isnull = df['ishape_hsm_regauss_e1_isnull'] == False\n",
    "ishape_hsm_regauss_e2_isnull = df['ishape_hsm_regauss_e2_isnull'] == False\n",
    "ishape_hsm_regauss_derived_shape_weight_isnull = df['ishape_hsm_regauss_derived_shape_weight_isnull'] == False \n",
    "ishape_hsm_regauss_derived_shear_bias_m_isnull = df['ishape_hsm_regauss_derived_shear_bias_m_isnull'] == False \n",
    "ishape_hsm_regauss_derived_shear_bias_c1_isnull = df['ishape_hsm_regauss_derived_shear_bias_c1_isnull'] == False \n",
    "ishape_hsm_regauss_derived_shear_bias_c2_isnull = df['ishape_hsm_regauss_derived_shear_bias_c2_isnull'] == False \n",
    "ishape_hsm_regauss_derived_sigma_e_isnull = df['ishape_hsm_regauss_derived_sigma_e_isnull'] == False "
   ]
  },
  {
   "cell_type": "code",
   "execution_count": 11,
   "metadata": {},
   "outputs": [],
   "source": [
    "null_cuts = (ishape_hsm_regauss_e1_isnull) & (ishape_hsm_regauss_e2_isnull) & (ishape_hsm_regauss_derived_shape_weight_isnull) & (ishape_hsm_regauss_derived_shear_bias_m_isnull) & (ishape_hsm_regauss_derived_shear_bias_c1_isnull) & (ishape_hsm_regauss_derived_shear_bias_c2_isnull) &  (ishape_hsm_regauss_derived_sigma_e_isnull) "
   ]
  },
  {
   "cell_type": "markdown",
   "metadata": {},
   "source": [
    "Objects reamining: 22,992,773"
   ]
  },
  {
   "cell_type": "code",
   "execution_count": 12,
   "metadata": {},
   "outputs": [
    {
     "data": {
      "text/plain": [
       "10613947"
      ]
     },
     "execution_count": 12,
     "metadata": {},
     "output_type": "execute_result"
    }
   ],
   "source": [
    "len(df[all_cuts&null_cuts])"
   ]
  },
  {
   "cell_type": "code",
   "execution_count": 51,
   "metadata": {},
   "outputs": [],
   "source": [
    "#10,707,132"
   ]
  },
  {
   "cell_type": "code",
   "execution_count": null,
   "metadata": {},
   "outputs": [],
   "source": []
  }
 ],
 "metadata": {
  "kernelspec": {
   "display_name": "desc-python",
   "language": "python",
   "name": "desc-python"
  },
  "language_info": {
   "codemirror_mode": {
    "name": "ipython",
    "version": 3
   },
   "file_extension": ".py",
   "mimetype": "text/x-python",
   "name": "python",
   "nbconvert_exporter": "python",
   "pygments_lexer": "ipython3",
   "version": "3.7.6"
  }
 },
 "nbformat": 4,
 "nbformat_minor": 4
}
