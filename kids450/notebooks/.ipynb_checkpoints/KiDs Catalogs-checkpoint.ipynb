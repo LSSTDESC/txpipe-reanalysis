{
 "cells": [
  {
   "cell_type": "markdown",
   "metadata": {},
   "source": [
    "# KiDs Catalogs\n",
    "\n",
    "Notebook to explore the data available in the KiDs catalog."
   ]
  },
  {
   "cell_type": "code",
   "execution_count": 35,
   "metadata": {},
   "outputs": [],
   "source": [
    "import h5py as h\n",
    "import numpy as np\n",
    "from astropy.io import fits\n",
    "import pandas\n",
    "import matplotlib.pyplot as plt"
   ]
  },
  {
   "cell_type": "markdown",
   "metadata": {},
   "source": [
    "## Load Catalogs"
   ]
  },
  {
   "cell_type": "code",
   "execution_count": 2,
   "metadata": {},
   "outputs": [],
   "source": [
    "dirname = '/global/cscratch1/sd/elp25/txpipe-reanalysis/data/kids/'\n",
    "#Load the files \n",
    "\n",
    "s = h.File(dirname+'shear_catalog_kids450_nonmetacal.h5', 'r')\n",
    "p = h.File(dirname+'photometry_catalog_kids450_nonmetacal.h5', 'r')"
   ]
  },
  {
   "cell_type": "markdown",
   "metadata": {},
   "source": [
    "Check the size of the catalogs."
   ]
  },
  {
   "cell_type": "code",
   "execution_count": 4,
   "metadata": {},
   "outputs": [
    {
     "name": "stdout",
     "output_type": "stream",
     "text": [
      "14650348\n",
      "14650348\n"
     ]
    }
   ],
   "source": [
    "print(len(s['/shear/flags'][()]))\n",
    "print(len(p['/photometry/ra'][()]))"
   ]
  },
  {
   "cell_type": "code",
   "execution_count": 7,
   "metadata": {},
   "outputs": [],
   "source": [
    "shear_data = pd.DataFrame({})\n",
    "for member in s['/shear']:\n",
    "    shear_data[member] = s['/shear/'+member][()]"
   ]
  },
  {
   "cell_type": "code",
   "execution_count": 12,
   "metadata": {},
   "outputs": [
    {
     "data": {
      "text/plain": [
       "Index(['T', 'dec', 'flags', 'g1', 'g2', 'mag_err_i', 'mag_err_r', 'mag_i',\n",
       "       'mag_r', 'mean_z', 'objectId', 'psf_T_mean', 'psf_g1', 'psf_g2', 'ra',\n",
       "       'region', 's2n', 'snr_i', 'snr_r', 'tilename'],\n",
       "      dtype='object')"
      ]
     },
     "execution_count": 12,
     "metadata": {},
     "output_type": "execute_result"
    }
   ],
   "source": [
    "shear_data.columns"
   ]
  },
  {
   "cell_type": "code",
   "execution_count": 9,
   "metadata": {},
   "outputs": [],
   "source": [
    "photo_data = pd.DataFrame({})\n",
    "for member in p['/photometry']:\n",
    "    photo_data[member] = p['/photometry/'+member][()]"
   ]
  },
  {
   "cell_type": "code",
   "execution_count": 13,
   "metadata": {},
   "outputs": [
    {
     "data": {
      "text/plain": [
       "Index(['dec', 'g_mag', 'g_mag_err', 'i_mag', 'i_mag_err', 'objectId', 'r_mag',\n",
       "       'r_mag_err', 'ra', 'snr_g', 'snr_i', 'snr_r', 'snr_u', 'snr_y', 'snr_z',\n",
       "       'tilename', 'u_mag', 'u_mag_err', 'y_mag', 'y_mag_err', 'z_mag',\n",
       "       'z_mag_err'],\n",
       "      dtype='object')"
      ]
     },
     "execution_count": 13,
     "metadata": {},
     "output_type": "execute_result"
    }
   ],
   "source": [
    "photo_data.columns"
   ]
  },
  {
   "cell_type": "markdown",
   "metadata": {},
   "source": [
    "## Redshift Distributions\n",
    "\n",
    "zbins = [0.1, 0.3, 0.3, 0.5, 0.5, 0.7, 0.7, 0.9] method used BPZ, bands used ugri"
   ]
  },
  {
   "cell_type": "markdown",
   "metadata": {},
   "source": [
    "Need to fix this to actually place in the bins they are assigned."
   ]
  },
  {
   "cell_type": "code",
   "execution_count": 18,
   "metadata": {},
   "outputs": [],
   "source": [
    "zbins_edges = [0.1, 0.3, 0.5, 0.7, 0.9]"
   ]
  },
  {
   "cell_type": "code",
   "execution_count": 33,
   "metadata": {},
   "outputs": [],
   "source": [
    "zbin_names = ['zbin0','zbin1','zbin2','zbin3']\n",
    "zbins_labels = pd.cut(shear_data['mean_z'],zbins_edges, labels = zbin_names )"
   ]
  },
  {
   "cell_type": "code",
   "execution_count": 28,
   "metadata": {},
   "outputs": [],
   "source": [
    "shear_data['zbin'] = zbins_labels"
   ]
  },
  {
   "cell_type": "code",
   "execution_count": 29,
   "metadata": {},
   "outputs": [
    {
     "data": {
      "text/html": [
       "<div>\n",
       "<style scoped>\n",
       "    .dataframe tbody tr th:only-of-type {\n",
       "        vertical-align: middle;\n",
       "    }\n",
       "\n",
       "    .dataframe tbody tr th {\n",
       "        vertical-align: top;\n",
       "    }\n",
       "\n",
       "    .dataframe thead th {\n",
       "        text-align: right;\n",
       "    }\n",
       "</style>\n",
       "<table border=\"1\" class=\"dataframe\">\n",
       "  <thead>\n",
       "    <tr style=\"text-align: right;\">\n",
       "      <th></th>\n",
       "      <th>T</th>\n",
       "      <th>dec</th>\n",
       "      <th>flags</th>\n",
       "      <th>g1</th>\n",
       "      <th>g2</th>\n",
       "      <th>mag_err_i</th>\n",
       "      <th>mag_err_r</th>\n",
       "      <th>mag_i</th>\n",
       "      <th>mag_r</th>\n",
       "      <th>mean_z</th>\n",
       "      <th>psf_T_mean</th>\n",
       "      <th>psf_g1</th>\n",
       "      <th>psf_g2</th>\n",
       "      <th>ra</th>\n",
       "      <th>s2n</th>\n",
       "      <th>snr_i</th>\n",
       "      <th>snr_r</th>\n",
       "    </tr>\n",
       "    <tr>\n",
       "      <th>zbin</th>\n",
       "      <th></th>\n",
       "      <th></th>\n",
       "      <th></th>\n",
       "      <th></th>\n",
       "      <th></th>\n",
       "      <th></th>\n",
       "      <th></th>\n",
       "      <th></th>\n",
       "      <th></th>\n",
       "      <th></th>\n",
       "      <th></th>\n",
       "      <th></th>\n",
       "      <th></th>\n",
       "      <th></th>\n",
       "      <th></th>\n",
       "      <th></th>\n",
       "      <th></th>\n",
       "    </tr>\n",
       "  </thead>\n",
       "  <tbody>\n",
       "    <tr>\n",
       "      <th>zbin0</th>\n",
       "      <td>4319805.00</td>\n",
       "      <td>-4.790830e+07</td>\n",
       "      <td>-97938.0</td>\n",
       "      <td>-2369.973877</td>\n",
       "      <td>4503.412598</td>\n",
       "      <td>936552.9375</td>\n",
       "      <td>327441.156250</td>\n",
       "      <td>80601208.0</td>\n",
       "      <td>87175232.0</td>\n",
       "      <td>7.101647e+05</td>\n",
       "      <td>9517185.0</td>\n",
       "      <td>11501.477539</td>\n",
       "      <td>-12144.281250</td>\n",
       "      <td>7.498939e+08</td>\n",
       "      <td>96482768.0</td>\n",
       "      <td>36037704.0</td>\n",
       "      <td>97434640.0</td>\n",
       "    </tr>\n",
       "    <tr>\n",
       "      <th>zbin1</th>\n",
       "      <td>3564525.75</td>\n",
       "      <td>-4.063285e+07</td>\n",
       "      <td>-80289.0</td>\n",
       "      <td>-416.170013</td>\n",
       "      <td>2440.974121</td>\n",
       "      <td>672678.1250</td>\n",
       "      <td>247623.234375</td>\n",
       "      <td>69457272.0</td>\n",
       "      <td>76812544.0</td>\n",
       "      <td>1.313375e+06</td>\n",
       "      <td>8276027.0</td>\n",
       "      <td>10115.859375</td>\n",
       "      <td>-10704.680664</td>\n",
       "      <td>6.608412e+08</td>\n",
       "      <td>104508968.0</td>\n",
       "      <td>45484252.0</td>\n",
       "      <td>109302208.0</td>\n",
       "    </tr>\n",
       "    <tr>\n",
       "      <th>zbin2</th>\n",
       "      <td>3291956.00</td>\n",
       "      <td>-3.494541e+07</td>\n",
       "      <td>-19053.0</td>\n",
       "      <td>-517.819214</td>\n",
       "      <td>2160.471191</td>\n",
       "      <td>560646.0625</td>\n",
       "      <td>238884.187500</td>\n",
       "      <td>66643016.0</td>\n",
       "      <td>68550328.0</td>\n",
       "      <td>1.824297e+06</td>\n",
       "      <td>7158972.0</td>\n",
       "      <td>9392.347656</td>\n",
       "      <td>-9716.600586</td>\n",
       "      <td>5.942730e+08</td>\n",
       "      <td>70384448.0</td>\n",
       "      <td>37898280.0</td>\n",
       "      <td>68346728.0</td>\n",
       "    </tr>\n",
       "    <tr>\n",
       "      <th>zbin3</th>\n",
       "      <td>3439708.00</td>\n",
       "      <td>-3.155615e+07</td>\n",
       "      <td>-702.0</td>\n",
       "      <td>-3165.278809</td>\n",
       "      <td>3501.331543</td>\n",
       "      <td>575220.3125</td>\n",
       "      <td>295787.718750</td>\n",
       "      <td>61086952.0</td>\n",
       "      <td>63355340.0</td>\n",
       "      <td>2.149118e+06</td>\n",
       "      <td>5969957.0</td>\n",
       "      <td>9290.850586</td>\n",
       "      <td>-8833.041992</td>\n",
       "      <td>5.413907e+08</td>\n",
       "      <td>41038148.0</td>\n",
       "      <td>22149072.0</td>\n",
       "      <td>35693992.0</td>\n",
       "    </tr>\n",
       "  </tbody>\n",
       "</table>\n",
       "</div>"
      ],
      "text/plain": [
       "                T           dec    flags           g1           g2  \\\n",
       "zbin                                                                 \n",
       "zbin0  4319805.00 -4.790830e+07 -97938.0 -2369.973877  4503.412598   \n",
       "zbin1  3564525.75 -4.063285e+07 -80289.0  -416.170013  2440.974121   \n",
       "zbin2  3291956.00 -3.494541e+07 -19053.0  -517.819214  2160.471191   \n",
       "zbin3  3439708.00 -3.155615e+07   -702.0 -3165.278809  3501.331543   \n",
       "\n",
       "         mag_err_i      mag_err_r       mag_i       mag_r        mean_z  \\\n",
       "zbin                                                                      \n",
       "zbin0  936552.9375  327441.156250  80601208.0  87175232.0  7.101647e+05   \n",
       "zbin1  672678.1250  247623.234375  69457272.0  76812544.0  1.313375e+06   \n",
       "zbin2  560646.0625  238884.187500  66643016.0  68550328.0  1.824297e+06   \n",
       "zbin3  575220.3125  295787.718750  61086952.0  63355340.0  2.149118e+06   \n",
       "\n",
       "       psf_T_mean        psf_g1        psf_g2            ra          s2n  \\\n",
       "zbin                                                                       \n",
       "zbin0   9517185.0  11501.477539 -12144.281250  7.498939e+08   96482768.0   \n",
       "zbin1   8276027.0  10115.859375 -10704.680664  6.608412e+08  104508968.0   \n",
       "zbin2   7158972.0   9392.347656  -9716.600586  5.942730e+08   70384448.0   \n",
       "zbin3   5969957.0   9290.850586  -8833.041992  5.413907e+08   41038148.0   \n",
       "\n",
       "            snr_i        snr_r  \n",
       "zbin                            \n",
       "zbin0  36037704.0   97434640.0  \n",
       "zbin1  45484252.0  109302208.0  \n",
       "zbin2  37898280.0   68346728.0  \n",
       "zbin3  22149072.0   35693992.0  "
      ]
     },
     "execution_count": 29,
     "metadata": {},
     "output_type": "execute_result"
    }
   ],
   "source": [
    "shear_data.groupby('zbin').sum().head()"
   ]
  },
  {
   "cell_type": "code",
   "execution_count": 45,
   "metadata": {},
   "outputs": [
    {
     "data": {
      "image/png": "[encoded data removed]",
      "text/plain": [
       "<Figure size 432x288 with 1 Axes>"
      ]
     },
     "metadata": {
      "needs_background": "light"
     },
     "output_type": "display_data"
    }
   ],
   "source": [
    "for i in range(4):\n",
    "    zbin = shear_data[shear_data['zbin']=='zbin'+str(i)]\n",
    "    plt.hist(zbin['mean_z'],histtype='step',label='zbin'+str(i))\n",
    "    plt.axvline(zbins_edges[i],linewidth=1, color='black')\n",
    "plt.axvline(zbins_edges[i+1],linewidth=1, color='black')\n",
    "plt.legend(loc='best')\n",
    "plt.ylabel('n(z)')\n",
    "plt.xlabel('z')\n",
    "plt.title('N(z)')\n",
    "plt.show()"
   ]
  },
  {
   "cell_type": "markdown",
   "metadata": {},
   "source": [
    "## Basic Tests"
   ]
  },
  {
   "cell_type": "markdown",
   "metadata": {},
   "source": [
    "Checking for a mean shear per bin (note need to change this to include weights)."
   ]
  },
  {
   "cell_type": "code",
   "execution_count": 37,
   "metadata": {},
   "outputs": [],
   "source": [
    "mean_g1 = shear_data.groupby('zbin').mean()['g1'].values\n",
    "mean_g2 = shear_data.groupby('zbin').mean()['g2'].values\n",
    "mean_zs = shear_data.groupby('zbin').mean()['mean_z'].values"
   ]
  },
  {
   "cell_type": "code",
   "execution_count": 38,
   "metadata": {},
   "outputs": [
    {
     "data": {
      "text/plain": [
       "<matplotlib.legend.Legend at 0x2aaad5fea8d0>"
      ]
     },
     "execution_count": 38,
     "metadata": {},
     "output_type": "execute_result"
    },
    {
     "data": {
      "image/png": "[encoded data removed]",
      "text/plain": [
       "<Figure size 432x288 with 1 Axes>"
      ]
     },
     "metadata": {
      "needs_background": "light"
     },
     "output_type": "display_data"
    }
   ],
   "source": [
    "plt.title('Mean Shear by Tomographic Bin')\n",
    "plt.scatter(mean_zs, mean_g1,label='<g1>')\n",
    "plt.scatter(mean_zs, mean_g2,label='<g2>')\n",
    "plt.xlabel('mean_z')\n",
    "plt.ylabel('<g>')\n",
    "plt.legend(loc='best')"
   ]
  },
  {
   "cell_type": "code",
   "execution_count": 49,
   "metadata": {},
   "outputs": [],
   "source": [
    "e1_psf = shear_data['psf_g1']\n",
    "mmin = -0.03\n",
    "mmax =0.05\n",
    "nbin = 20\n",
    "edges = np.linspace(mmin, mmax, nbin+1)\n",
    "index = np.digitize(e1_psf, edges)\n",
    "\n",
    "e1_binned = np.zeros(nbin)\n",
    "e2_binned = np.zeros(nbin)\n",
    "e1_psf_binned = np.zeros(nbin)\n",
    "e2_psf_binned = np.zeros(nbin)\n",
    "err1 = np.zeros(nbin)\n",
    "err2 = np.zeros(nbin)\n",
    "\n",
    "\n",
    "for i in range(nbin):\n",
    "    w = np.where((index==i+1))[0]\n",
    "    e1_i = shear_data['g1'][w]\n",
    "    e2_i = shear_data['g2'][w]\n",
    "    \n",
    "    e1_psf_binned[i] = shear_data['psf_g1'][w].mean()\n",
    "    e1_binned[i] = np.mean(e1_i)\n",
    "    e2_binned[i] = np.mean(e2_i)\n",
    "    err1[i] = np.std(e1_i) / np.sqrt(e1_i.size)\n",
    "    err2[i] = np.std(e2_i) / np.sqrt(e2_i.size)\n",
    "\n",
    "                 \n",
    "e2_psf = shear_data['psf_g2']\n",
    "mmin = -0.03\n",
    "mmax =0.05\n",
    "nbin = 20\n",
    "edges = np.linspace(mmin, mmax, nbin+1)\n",
    "index = np.digitize(e1_psf, edges)\n",
    "                 \n",
    "e1_binned_2 = np.zeros(nbin)\n",
    "e2_binned_2 = np.zeros(nbin)\n",
    "err1_2 = np.zeros(nbin)\n",
    "err2_2 = np.zeros(nbin)\n",
    "                 \n",
    "index = np.digitize(e2_psf, edges)\n",
    "\n",
    "for i in range(nbin):\n",
    "    w = np.where((index==i+1))[0]\n",
    "    e1_i = shear_data['g1'][w]\n",
    "    e2_i = shear_data['g2'][w]\n",
    "\n",
    "    \n",
    "    e2_psf_binned[i] = shear_data['psf_g2'][w].mean()\n",
    "    e1_binned_2[i] = np.mean(e1_i)\n",
    "    e2_binned_2[i] = np.mean(e2_i)\n",
    "    err1_2[i] = np.std(e1_i) / np.sqrt(e1_i.size)\n",
    "    err2_2[i] = np.std(e2_i) / np.sqrt(e2_i.size)"
   ]
  },
  {
   "cell_type": "code",
   "execution_count": 52,
   "metadata": {},
   "outputs": [
    {
     "data": {
      "image/png": "[encoded data removed]",
      "text/plain": [
       "<Figure size 432x288 with 2 Axes>"
      ]
     },
     "metadata": {
      "needs_background": "light"
     },
     "output_type": "display_data"
    }
   ],
   "source": [
    "from scipy import stats\n",
    "\n",
    "mu1 = e1_psf_binned\n",
    "mu2 = e2_psf_binned\n",
    "mean11 = e1_binned\n",
    "mean12 = e2_binned\n",
    "mean21 = e1_binned_2\n",
    "mean22 = e2_binned_2\n",
    "std11 = err1\n",
    "std12 = err2\n",
    "std21 = err1_2\n",
    "std22 = err2_2\n",
    "\n",
    "slope11, intercept11, r_value11, p_value11, std_err11 = stats.linregress(mu1,mean11)\n",
    "line11 = slope11*(mu1)+intercept11\n",
    "\n",
    "slope12, intercept12, r_value12, p_value12, std_err12 = stats.linregress(mu1,mean12)\n",
    "line12 = slope12*(mu1)+intercept12\n",
    "\n",
    "slope21, intercept21, r_value21, p_value21, std_err21 = stats.linregress(mu2,mean21)\n",
    "line21 = slope21*(mu2)+intercept21\n",
    "\n",
    "slope22, intercept22, r_value22, p_value22, std_err22 = stats.linregress(mu2,mean22)\n",
    "line22 = slope22*(mu2)+intercept22\n",
    "\n",
    "plt.subplot(2,1,1)\n",
    "\n",
    "        \n",
    "plt.plot(mu1,line11,color='red')\n",
    "plt.plot(mu1,[0]*len(line11),color='black')\n",
    "\n",
    "plt.plot(mu1,line12,color='blue')\n",
    "plt.plot(mu1,[0]*len(line12),color='black')\n",
    "plt.errorbar(mu1, mean11, std11, label='<e1>', fmt='+',color='red')\n",
    "plt.errorbar(mu1, mean12, std12, label='<e2>', fmt='+',color='blue')\n",
    "#plt.yticks(np.arange(-0.0015, 0.002, 0.0005))\n",
    "#plt.ylim(-0.0015,0.0015)\n",
    "plt.xlabel(\"PSF e1\")\n",
    "plt.ylabel(\"<e>\")\n",
    "plt.legend(loc='lower right',borderpad=.1,framealpha=1.0)\n",
    "\n",
    "\n",
    "plt.subplot(2,1,2)\n",
    "\n",
    "plt.plot(mu2,line21,color='red')\n",
    "plt.plot(mu2,[0]*len(line21),color='black')\n",
    "\n",
    "plt.plot(mu2,line22,color='blue')\n",
    "plt.plot(mu2,[0]*len(line22),color='black')\n",
    "plt.errorbar(mu2, mean21, std21, label='<e1>', fmt='+',color='red')\n",
    "plt.errorbar(mu2, mean22, std22, label='<e2>', fmt='+',color='blue')\n",
    "#plt.yticks(np.arange(-0.0015, 0.002, 0.0005))\n",
    "#plt.ylim(-0.0015,0.0015)\n",
    "plt.xlabel(\"PSF e2\")\n",
    "plt.ylabel(\"<e>\")\n",
    "plt.legend(loc='lower right',borderpad=.1,framealpha=1.0)\n",
    "\n",
    "plt.subplots_adjust(hspace=0.5)"
   ]
  },
  {
   "cell_type": "code",
   "execution_count": 57,
   "metadata": {},
   "outputs": [],
   "source": [
    "T = shear_data['psf_T_mean']\n",
    "mmin = 0.2\n",
    "mmax = 2.0\n",
    "nbin = 20\n",
    "edges = np.linspace(mmin, mmax, nbin+1)\n",
    "index = np.digitize(T, edges)\n",
    "\n",
    "e1_binned = np.zeros(nbin)\n",
    "e2_binned = np.zeros(nbin)\n",
    "T_binned = np.zeros(nbin)\n",
    "err1 = np.zeros(nbin)\n",
    "err2 = np.zeros(nbin)\n",
    "\n",
    "\n",
    "for i in range(nbin):\n",
    "    w = np.where((index==i+1))[0]\n",
    "    e1_i = shear_data['g1'][w]\n",
    "    e2_i = shear_data['g2'][w]\n",
    "    \n",
    "    T_binned[i] = shear_data['psf_T_mean'][w].mean()\n",
    "    e1_binned[i] = np.mean(e1_i)\n",
    "    e2_binned[i] = np.mean(e2_i)\n",
    "    err1[i] = np.std(e1_i) / np.sqrt(e1_i.size)\n",
    "    err2[i] = np.std(e2_i) / np.sqrt(e2_i.size)"
   ]
  },
  {
   "cell_type": "code",
   "execution_count": 59,
   "metadata": {},
   "outputs": [
    {
     "data": {
      "text/plain": [
       "<matplotlib.legend.Legend at 0x2aaaecb6e650>"
      ]
     },
     "execution_count": 59,
     "metadata": {},
     "output_type": "execute_result"
    },
    {
     "data": {
      "image/png": "[encoded data removed]",
      "text/plain": [
       "<Figure size 432x288 with 1 Axes>"
      ]
     },
     "metadata": {
      "needs_background": "light"
     },
     "output_type": "display_data"
    }
   ],
   "source": [
    "from scipy import stats\n",
    "\n",
    "mu1 = T_binned\n",
    "mean11 = e1_binned\n",
    "mean12 = e2_binned\n",
    "mean21 = e1_binned_2\n",
    "mean22 = e2_binned_2\n",
    "std11 = err1\n",
    "std12 = err2\n",
    "std21 = err1_2\n",
    "std22 = err2_2\n",
    "\n",
    "slope11, intercept11, r_value11, p_value11, std_err11 = stats.linregress(mu1,mean11)\n",
    "line11 = slope11*(mu1)+intercept11\n",
    "\n",
    "slope12, intercept12, r_value12, p_value12, std_err12 = stats.linregress(mu1,mean12)\n",
    "line12 = slope12*(mu1)+intercept12\n",
    "\n",
    "plt.subplot(2,1,1)\n",
    "\n",
    "        \n",
    "plt.plot(mu1,line11,color='red')\n",
    "plt.plot(mu1,[0]*len(line11),color='black')\n",
    "\n",
    "plt.plot(mu1,line12,color='blue')\n",
    "plt.plot(mu1,[0]*len(line12),color='black')\n",
    "plt.errorbar(mu1, mean11, std11, label='<e1>', fmt='+',color='red')\n",
    "plt.errorbar(mu1, mean12, std12, label='<e2>', fmt='+',color='blue')\n",
    "#plt.yticks(np.arange(-0.0015, 0.002, 0.0005))\n",
    "#plt.ylim(-0.0015,0.0015)\n",
    "plt.xlabel(r\"$T_{PSF}$\")\n",
    "plt.ylabel(\"<e>\")\n",
    "plt.legend(loc='lower right',borderpad=.1,framealpha=1.0)"
   ]
  },
  {
   "cell_type": "code",
   "execution_count": null,
   "metadata": {},
   "outputs": [],
   "source": []
  }
 ],
 "metadata": {
  "kernelspec": {
   "display_name": "desc-python",
   "language": "python",
   "name": "desc-python"
  },
  "language_info": {
   "codemirror_mode": {
    "name": "ipython",
    "version": 3
   },
   "file_extension": ".py",
   "mimetype": "text/x-python",
   "name": "python",
   "nbconvert_exporter": "python",
   "pygments_lexer": "ipython3",
   "version": "3.7.6"
  }
 },
 "nbformat": 4,
 "nbformat_minor": 4
}
