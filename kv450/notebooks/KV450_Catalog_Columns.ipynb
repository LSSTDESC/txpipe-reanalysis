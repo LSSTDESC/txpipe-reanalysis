{
 "cells": [
  {
   "cell_type": "code",
   "execution_count": 1,
   "metadata": {},
   "outputs": [],
   "source": [
    "from astropy.table import Table, vstack"
   ]
  },
  {
   "cell_type": "code",
   "execution_count": 5,
   "metadata": {},
   "outputs": [],
   "source": [
    "path = '/global/cscratch1/sd/elp25/txpipe-reanalysis/kv450/data/'"
   ]
  },
  {
   "cell_type": "code",
   "execution_count": 9,
   "metadata": {},
   "outputs": [
    {
     "name": "stdout",
     "output_type": "stream",
     "text": [
      "DR3\t\t\t\t      KV450_G23_reweight_3x4x4_v2_good.cat\n",
      "KV450_COSMIC_SHEAR_DATA_RELEASE       KV450_G9_reweight_3x4x4_v2_good.cat\n",
      "KV450_G12_reweight_3x4x4_v2_good.cat  KV450_GS_reweight_3x4x4_v2_good.cat\n",
      "KV450_G15_reweight_3x4x4_v2_good.cat  photoz_stack.hdf5\n"
     ]
    }
   ],
   "source": [
    "!ls {path}"
   ]
  },
  {
   "cell_type": "code",
   "execution_count": 6,
   "metadata": {},
   "outputs": [],
   "source": [
    "cat_name = path + 'KV450_G12_reweight_3x4x4_v2_good.cat'"
   ]
  },
  {
   "cell_type": "code",
   "execution_count": 11,
   "metadata": {},
   "outputs": [],
   "source": [
    "table = Table.read(cat_name, memmap=True)"
   ]
  },
  {
   "cell_type": "code",
   "execution_count": 13,
   "metadata": {},
   "outputs": [
    {
     "name": "stdout",
     "output_type": "stream",
     "text": [
      "cat_ID\n"
     ]
    }
   ],
   "source": [
    "for col in table.colnames:\n",
    "    if 'ID' in col:\n",
    "        print(col)"
   ]
  },
  {
   "cell_type": "code",
   "execution_count": 18,
   "metadata": {},
   "outputs": [
    {
     "data": {
      "text/plain": [
       "141270"
      ]
     },
     "execution_count": 18,
     "metadata": {},
     "output_type": "execute_result"
    }
   ],
   "source": [
    "import numpy as np\n",
    "len(np.unique(table['cat_ID']))"
   ]
  },
  {
   "cell_type": "code",
   "execution_count": 20,
   "metadata": {},
   "outputs": [
    {
     "data": {
      "text/plain": [
       "3575185"
      ]
     },
     "execution_count": 20,
     "metadata": {},
     "output_type": "execute_result"
    }
   ],
   "source": [
    "len((table['cat_ID']))"
   ]
  },
  {
   "cell_type": "code",
   "execution_count": 27,
   "metadata": {},
   "outputs": [
    {
     "name": "stdout",
     "output_type": "stream",
     "text": [
      "Xpos_THELI\n",
      "Ypos_THELI\n",
      "n_exposures_used\n"
     ]
    }
   ],
   "source": [
    "for col in table.colnames:\n",
    "    if 'pos' in col:\n",
    "        print(col)"
   ]
  },
  {
   "cell_type": "code",
   "execution_count": 29,
   "metadata": {},
   "outputs": [
    {
     "data": {
      "text/html": [
       "&lt;Column name=&apos;Xpos_THELI&apos; dtype=&apos;float32&apos; unit=&apos;pix&apos; length=3&gt;\n",
       "<table>\n",
       "<tr><td>14692.908</td></tr>\n",
       "<tr><td>8361.891</td></tr>\n",
       "<tr><td>16349.422</td></tr>\n",
       "</table>"
      ],
      "text/plain": [
       "<Column name='Xpos_THELI' dtype='float32' unit='pix' length=3>\n",
       "14692.908\n",
       " 8361.891\n",
       "16349.422"
      ]
     },
     "execution_count": 29,
     "metadata": {},
     "output_type": "execute_result"
    }
   ],
   "source": [
    "table['Xpos_THELI'][0:3]"
   ]
  },
  {
   "cell_type": "code",
   "execution_count": 24,
   "metadata": {},
   "outputs": [
    {
     "data": {
      "text/plain": [
       "['SeqNr',\n",
       " 'FLUX_AUTO_THELI',\n",
       " 'FLUXERR_AUTO_THELI',\n",
       " 'MAG_AUTO',\n",
       " 'MAGERR_AUTO_THELI',\n",
       " 'KRON_RADIUS_THELI',\n",
       " 'BackGr_THELI',\n",
       " 'Level_THELI',\n",
       " 'MU_THRESHOLD_THELI',\n",
       " 'MaxVal_THELI',\n",
       " 'MU_MAX_THELI',\n",
       " 'ISOAREA_WORLD_THELI',\n",
       " 'Xpos_THELI',\n",
       " 'Ypos_THELI',\n",
       " 'ALPHA_J2000',\n",
       " 'DELTA_J2000',\n",
       " 'A_WORLD',\n",
       " 'B_WORLD',\n",
       " 'THETA_J2000',\n",
       " 'ERRA_WORLD_THELI',\n",
       " 'ERRA_IMAGE_THELI',\n",
       " 'ERRB_WORLD_THELI',\n",
       " 'ERRB_IMAGE_THELI',\n",
       " 'THETA_SKY_THELI',\n",
       " 'ERRTHETA_SKY_THELI',\n",
       " 'THETA_WORLD_THELI',\n",
       " 'ERRTHETA_WORLD_THELI',\n",
       " 'FWHM_IMAGE_THELI',\n",
       " 'FWHM_WORLD_THELI',\n",
       " 'Flag_THELI',\n",
       " 'FLUX_RADIUS_THELI',\n",
       " 'NIMAFLAGS_ISO_THELI',\n",
       " 'CLASS_STAR_THELI',\n",
       " 'IMAFLAGS_ISO_THELI',\n",
       " 'X_WORLD_THELI',\n",
       " 'Y_WORLD_THELI',\n",
       " 'XY_WORLD_THELI',\n",
       " 'X2_WORLD_THELI',\n",
       " 'Y2_WORLD_THELI',\n",
       " 'ERRX2_IMAGE_THELI',\n",
       " 'ERRX2_WORLD_THELI',\n",
       " 'ERRXY_WORLD_THELI',\n",
       " 'ERRY2_WORLD_THELI',\n",
       " 'ERRXY_IMAGE_THELI',\n",
       " 'ERRY2_IMAGE_THELI',\n",
       " 'XM2_THELI',\n",
       " 'YM2_THELI',\n",
       " 'Corr_THELI',\n",
       " 'CXX_IMAGE_THELI',\n",
       " 'CXY_IMAGE_THELI',\n",
       " 'CYY_IMAGE_THELI',\n",
       " 'CXX_WORLD_THELI',\n",
       " 'CXY_WORLD_THELI',\n",
       " 'CYY_WORLD_THELI',\n",
       " 'ERRCXX_IMAGE_THELI',\n",
       " 'ERRCXY_IMAGE_THELI',\n",
       " 'ERRCYY_IMAGE_THELI',\n",
       " 'ERRCXX_WORLD_THELI',\n",
       " 'ERRCXY_WORLD_THELI',\n",
       " 'ERRCYY_WORLD_THELI',\n",
       " 'NPIX_THELI',\n",
       " 'XMIN_IMAGE_THELI',\n",
       " 'XMAX_IMAGE_THELI',\n",
       " 'YMIN_IMAGE_THELI',\n",
       " 'YMAX_IMAGE_THELI',\n",
       " 'A_THELI',\n",
       " 'B_THELI',\n",
       " 'POSANG_THELI',\n",
       " 'ERRTHETA_IMAGE_THELI',\n",
       " 'ELLIPTICITY_THELI',\n",
       " 'ELONGATION_THELI',\n",
       " 'ISO0_THELI',\n",
       " 'ISO1_THELI',\n",
       " 'ISO2_THELI',\n",
       " 'ISO3_THELI',\n",
       " 'ISO4_THELI',\n",
       " 'ISO5_THELI',\n",
       " 'ISO6_THELI',\n",
       " 'ISO7_THELI',\n",
       " 'EXTINCTION_u',\n",
       " 'EXTINCTION_g',\n",
       " 'EXTINCTION_r',\n",
       " 'EXTINCTION_i',\n",
       " 'MAG_LIM_u',\n",
       " 'MAG_LIM_g',\n",
       " 'MAG_LIM_r',\n",
       " 'MAG_LIM_i',\n",
       " 'MAG_ISO_THELI',\n",
       " 'MAGERR_ISO_THELI',\n",
       " 'MAG_ISOCOR_THELI',\n",
       " 'MAGERR_ISOCOR_THELI',\n",
       " 'MAG_BEST_THELI',\n",
       " 'MAGERR_BEST_THELI',\n",
       " 'MAG_APER_THELI',\n",
       " 'MAGERR_APER_THELI',\n",
       " 'FLUX_BEST_THELI',\n",
       " 'FLUXERR_BEST_THELI',\n",
       " 'FLUX_ISO_THELI',\n",
       " 'FLUXERR_ISO_THELI',\n",
       " 'FLUX_ISOCOR_THELI',\n",
       " 'FLUXERR_ISOCOR_THELI',\n",
       " 'FLUX_APER_4_THELI',\n",
       " 'FLUX_APER_5_THELI',\n",
       " 'FLUX_APER_6_THELI',\n",
       " 'FLUX_APER_7_THELI',\n",
       " 'FLUX_APER_8_THELI',\n",
       " 'FLUX_APER_9_THELI',\n",
       " 'FLUX_APER_10_THELI',\n",
       " 'FLUX_APER_11_THELI',\n",
       " 'FLUX_APER_12_THELI',\n",
       " 'FLUX_APER_13_THELI',\n",
       " 'FLUX_APER_14_THELI',\n",
       " 'FLUX_APER_15_THELI',\n",
       " 'FLUX_APER_16_THELI',\n",
       " 'FLUX_APER_17_THELI',\n",
       " 'FLUX_APER_18_THELI',\n",
       " 'FLUX_APER_19_THELI',\n",
       " 'FLUX_APER_20_THELI',\n",
       " 'FLUX_APER_25_THELI',\n",
       " 'FLUX_APER_30_THELI',\n",
       " 'FLUX_APER_35_THELI',\n",
       " 'FLUX_APER_40_THELI',\n",
       " 'FLUX_APER_45_THELI',\n",
       " 'FLUX_APER_50_THELI',\n",
       " 'FLUX_APER_55_THELI',\n",
       " 'FLUXERR_APER_4_THELI',\n",
       " 'FLUXERR_APER_5_THELI',\n",
       " 'FLUXERR_APER_6_THELI',\n",
       " 'FLUXERR_APER_7_THELI',\n",
       " 'FLUXERR_APER_8_THELI',\n",
       " 'FLUXERR_APER_9_THELI',\n",
       " 'FLUXERR_APER_10_THELI',\n",
       " 'FLUXERR_APER_11_THELI',\n",
       " 'FLUXERR_APER_12_THELI',\n",
       " 'FLUXERR_APER_13_THELI',\n",
       " 'FLUXERR_APER_14_THELI',\n",
       " 'FLUXERR_APER_15_THELI',\n",
       " 'FLUXERR_APER_16_THELI',\n",
       " 'FLUXERR_APER_17_THELI',\n",
       " 'FLUXERR_APER_18_THELI',\n",
       " 'FLUXERR_APER_19_THELI',\n",
       " 'FLUXERR_APER_20_THELI',\n",
       " 'FLUXERR_APER_25_THELI',\n",
       " 'FLUXERR_APER_30_THELI',\n",
       " 'FLUXERR_APER_35_THELI',\n",
       " 'FLUXERR_APER_40_THELI',\n",
       " 'FLUXERR_APER_45_THELI',\n",
       " 'FLUXERR_APER_50_THELI',\n",
       " 'FLUXERR_APER_55_THELI',\n",
       " 'Agaper_u',\n",
       " 'Bgaper_u',\n",
       " 'PAgaap_u',\n",
       " 'MAG_GAAP_u',\n",
       " 'MAGERR_GAAP_u',\n",
       " 'FLUX_GAAP_u',\n",
       " 'FLUXERR_GAAP_u',\n",
       " 'Agaper_g',\n",
       " 'Bgaper_g',\n",
       " 'PAgaap_g',\n",
       " 'MAG_GAAP_g',\n",
       " 'MAGERR_GAAP_g',\n",
       " 'FLUX_GAAP_g',\n",
       " 'FLUXERR_GAAP_g',\n",
       " 'Agaper_r',\n",
       " 'Bgaper_r',\n",
       " 'PAgaap_r',\n",
       " 'MAG_GAAP_r',\n",
       " 'MAGERR_GAAP_r',\n",
       " 'FLUX_GAAP_r',\n",
       " 'FLUXERR_GAAP_r',\n",
       " 'Agaper_i',\n",
       " 'Bgaper_i',\n",
       " 'PAgaap_i',\n",
       " 'MAG_GAAP_i',\n",
       " 'MAGERR_GAAP_i',\n",
       " 'FLUX_GAAP_i',\n",
       " 'FLUXERR_GAAP_i',\n",
       " 'Z_B_ugri',\n",
       " 'Z_B_MIN_ugri',\n",
       " 'Z_B_MAX_ugri',\n",
       " 'T_B_ugri',\n",
       " 'ODDS_ugri',\n",
       " 'Z_ML_ugri',\n",
       " 'T_ML_ugri',\n",
       " 'CHI_SQUARED_BPZ_ugri',\n",
       " 'M_0_ugri',\n",
       " 'FIELD_POS',\n",
       " 'MAG_GAAP_Z',\n",
       " 'MAGERR_GAAP_Z',\n",
       " 'FLUX_GAAP_Z',\n",
       " 'FLUXERR_GAAP_Z',\n",
       " 'GAAP_Flag_Z',\n",
       " 'GAAP_nexp_Z',\n",
       " 'MAG_GAAP_Y',\n",
       " 'MAGERR_GAAP_Y',\n",
       " 'FLUX_GAAP_Y',\n",
       " 'FLUXERR_GAAP_Y',\n",
       " 'GAAP_Flag_Y',\n",
       " 'GAAP_nexp_Y',\n",
       " 'MAG_GAAP_J',\n",
       " 'MAGERR_GAAP_J',\n",
       " 'FLUX_GAAP_J',\n",
       " 'FLUXERR_GAAP_J',\n",
       " 'GAAP_Flag_J',\n",
       " 'GAAP_nexp_J',\n",
       " 'MAG_GAAP_H',\n",
       " 'MAGERR_GAAP_H',\n",
       " 'FLUX_GAAP_H',\n",
       " 'FLUXERR_GAAP_H',\n",
       " 'GAAP_Flag_H',\n",
       " 'GAAP_nexp_H',\n",
       " 'MAG_GAAP_Ks',\n",
       " 'MAGERR_GAAP_Ks',\n",
       " 'FLUX_GAAP_Ks',\n",
       " 'FLUXERR_GAAP_Ks',\n",
       " 'GAAP_Flag_Ks',\n",
       " 'GAAP_nexp_Ks',\n",
       " 'EXTINCTION_Z',\n",
       " 'EXTINCTION_Y',\n",
       " 'EXTINCTION_J',\n",
       " 'EXTINCTION_H',\n",
       " 'EXTINCTION_Ks',\n",
       " 'MAG_LIM_Z',\n",
       " 'MAG_LIM_Y',\n",
       " 'MAG_LIM_J',\n",
       " 'MAG_LIM_H',\n",
       " 'MAG_LIM_Ks',\n",
       " 'GAAP_Flag_u',\n",
       " 'GAAP_Flag_g',\n",
       " 'GAAP_Flag_r',\n",
       " 'GAAP_Flag_i',\n",
       " 'Z_B',\n",
       " 'Z_B_MIN',\n",
       " 'Z_B_MAX',\n",
       " 'T_B',\n",
       " 'ODDS',\n",
       " 'Z_ML',\n",
       " 'T_ML',\n",
       " 'CHI_SQUARED_BPZ',\n",
       " 'M_0',\n",
       " 'BPZ_FILT',\n",
       " 'NBPZ_FILT',\n",
       " 'BPZ_NONDETFILT',\n",
       " 'NBPZ_NONDETFILT',\n",
       " 'BPZ_FLAGFILT',\n",
       " 'NBPZ_FLAGFILT',\n",
       " 'GAAP_Flag_ugriZYJHKs',\n",
       " 'wcsx',\n",
       " 'wcsy',\n",
       " 'bias_corrected_e1',\n",
       " 'bias_corrected_e2',\n",
       " 'weight',\n",
       " 'fitclass',\n",
       " 'bias_corrected_scalelength_pixels',\n",
       " 'bulge_fraction',\n",
       " 'model_flux',\n",
       " 'pixel_SNratio',\n",
       " 'model_SNratio',\n",
       " 'contamination_radius',\n",
       " 'PSF_e1',\n",
       " 'PSF_e2',\n",
       " 'PSF_Strehl_ratio',\n",
       " 'PSF_Q11',\n",
       " 'PSF_Q22',\n",
       " 'PSF_Q12',\n",
       " 'star_galaxy_f_probability',\n",
       " 'r_correction',\n",
       " '2D_measurement_variance',\n",
       " 'mean_likelihood_e',\n",
       " 'e1_correction',\n",
       " 'e2_correction',\n",
       " 'neighbour_mag',\n",
       " 'neighbour_distance',\n",
       " 'catmag',\n",
       " 'n_exposures_used',\n",
       " 'cat_ID',\n",
       " 'PSF_e1_exp1',\n",
       " 'PSF_e2_exp1',\n",
       " 'PSF_e1_exp2',\n",
       " 'PSF_e2_exp2',\n",
       " 'PSF_e1_exp3',\n",
       " 'PSF_e2_exp3',\n",
       " 'PSF_e1_exp4',\n",
       " 'PSF_e2_exp4',\n",
       " 'PSF_e1_exp5',\n",
       " 'PSF_e2_exp5',\n",
       " 'MASK',\n",
       " 'SG_FLAG',\n",
       " 'MAG_GAAP_u_CALIB',\n",
       " 'MAG_GAAP_g_CALIB',\n",
       " 'MAG_GAAP_r_CALIB',\n",
       " 'MAG_GAAP_i_CALIB',\n",
       " 'THELI_NAME',\n",
       " 'THELI_INT',\n",
       " 'SeqNr_field',\n",
       " 'weight_A',\n",
       " 'gmr',\n",
       " 'imr',\n",
       " 'eabs',\n",
       " 'binary_cut',\n",
       " 'recal_weight',\n",
       " '2D_measurement_variance_corr']"
      ]
     },
     "execution_count": 24,
     "metadata": {},
     "output_type": "execute_result"
    }
   ],
   "source": [
    "for col in table.colnames:\n",
    "    if 'ra'"
   ]
  },
  {
   "cell_type": "code",
   "execution_count": null,
   "metadata": {},
   "outputs": [],
   "source": []
  }
 ],
 "metadata": {
  "kernelspec": {
   "display_name": "desc-python",
   "language": "python",
   "name": "desc-python"
  },
  "language_info": {
   "codemirror_mode": {
    "name": "ipython",
    "version": 3
   },
   "file_extension": ".py",
   "mimetype": "text/x-python",
   "name": "python",
   "nbconvert_exporter": "python",
   "pygments_lexer": "ipython3",
   "version": "3.7.6"
  }
 },
 "nbformat": 4,
 "nbformat_minor": 4
}
