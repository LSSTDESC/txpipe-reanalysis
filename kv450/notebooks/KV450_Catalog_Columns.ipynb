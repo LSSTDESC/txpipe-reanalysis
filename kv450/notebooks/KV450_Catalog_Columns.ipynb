{
 "cells": [
  {
   "cell_type": "code",
   "execution_count": 2,
   "metadata": {},
   "outputs": [],
   "source": [
    "from astropy.table import Table, vstack"
   ]
  },
  {
   "cell_type": "code",
   "execution_count": 3,
   "metadata": {},
   "outputs": [],
   "source": [
    "path = '/global/cscratch1/sd/elp25/txpipe-reanalysis/kv450/data/'"
   ]
  },
  {
   "cell_type": "code",
   "execution_count": 4,
   "metadata": {},
   "outputs": [
    {
     "name": "stdout",
     "output_type": "stream",
     "text": [
      "DR3\t\t\t\t      KV450_G23_reweight_3x4x4_v2_good.cat\n",
      "KV450_COSMIC_SHEAR_DATA_RELEASE       KV450_G9_reweight_3x4x4_v2_good.cat\n",
      "KV450_G12_reweight_3x4x4_v2_good.cat  KV450_GS_reweight_3x4x4_v2_good.cat\n",
      "KV450_G15_reweight_3x4x4_v2_good.cat  photoz_stack.hdf5\n"
     ]
    }
   ],
   "source": [
    "!ls {path}"
   ]
  },
  {
   "cell_type": "code",
   "execution_count": 5,
   "metadata": {},
   "outputs": [],
   "source": [
    "cat_name = path + 'KV450_G12_reweight_3x4x4_v2_good.cat'"
   ]
  },
  {
   "cell_type": "code",
   "execution_count": 6,
   "metadata": {},
   "outputs": [
    {
     "name": "stderr",
     "output_type": "stream",
     "text": [
      "WARNING: hdu= was not specified but multiple tables are present, reading in first available table (hdu=1) [astropy.io.fits.connect]\n"
     ]
    }
   ],
   "source": [
    "table = Table.read(cat_name, memmap=True)"
   ]
  },
  {
   "cell_type": "code",
   "execution_count": 7,
   "metadata": {},
   "outputs": [
    {
     "name": "stdout",
     "output_type": "stream",
     "text": [
      "cat_ID\n"
     ]
    }
   ],
   "source": [
    "for col in table.colnames:\n",
    "    if 'ID' in col:\n",
    "        print(col)"
   ]
  },
  {
   "cell_type": "code",
   "execution_count": 8,
   "metadata": {},
   "outputs": [
    {
     "data": {
      "text/plain": [
       "141270"
      ]
     },
     "execution_count": 8,
     "metadata": {},
     "output_type": "execute_result"
    }
   ],
   "source": [
    "import numpy as np\n",
    "len(np.unique(table['cat_ID']))"
   ]
  },
  {
   "cell_type": "code",
   "execution_count": 9,
   "metadata": {},
   "outputs": [
    {
     "data": {
      "text/plain": [
       "3575185"
      ]
     },
     "execution_count": 9,
     "metadata": {},
     "output_type": "execute_result"
    }
   ],
   "source": [
    "len((table['cat_ID']))"
   ]
  },
  {
   "cell_type": "code",
   "execution_count": 10,
   "metadata": {},
   "outputs": [
    {
     "name": "stdout",
     "output_type": "stream",
     "text": [
      "Xpos_THELI\n",
      "Ypos_THELI\n",
      "n_exposures_used\n"
     ]
    }
   ],
   "source": [
    "for col in table.colnames:\n",
    "    if 'pos' in col:\n",
    "        print(col)"
   ]
  },
  {
   "cell_type": "code",
   "execution_count": 11,
   "metadata": {},
   "outputs": [
    {
     "data": {
      "text/html": [
       "&lt;Column name=&apos;Xpos_THELI&apos; dtype=&apos;float32&apos; unit=&apos;pix&apos; length=3&gt;\n",
       "<table>\n",
       "<tr><td>14692.908</td></tr>\n",
       "<tr><td>8361.891</td></tr>\n",
       "<tr><td>16349.422</td></tr>\n",
       "</table>"
      ],
      "text/plain": [
       "<Column name='Xpos_THELI' dtype='float32' unit='pix' length=3>\n",
       "14692.908\n",
       " 8361.891\n",
       "16349.422"
      ]
     },
     "execution_count": 11,
     "metadata": {},
     "output_type": "execute_result"
    }
   ],
   "source": [
    "table['Xpos_THELI'][0:3]"
   ]
  },
  {
   "cell_type": "code",
   "execution_count": 12,
   "metadata": {},
   "outputs": [
    {
     "name": "stdout",
     "output_type": "stream",
     "text": [
      "ALPHA_J2000\n",
      "DELTA_J2000\n",
      "THETA_J2000\n"
     ]
    }
   ],
   "source": [
    "for col in table.colnames:\n",
    "    if '2000' in col:\n",
    "        print(col)"
   ]
  },
  {
   "cell_type": "code",
   "execution_count": null,
   "metadata": {},
   "outputs": [],
   "source": []
  }
 ],
 "metadata": {
  "kernelspec": {
   "display_name": "desc-python",
   "language": "python",
   "name": "desc-python"
  },
  "language_info": {
   "codemirror_mode": {
    "name": "ipython",
    "version": 3
   },
   "file_extension": ".py",
   "mimetype": "text/x-python",
   "name": "python",
   "nbconvert_exporter": "python",
   "pygments_lexer": "ipython3",
   "version": "3.7.6"
  }
 },
 "nbformat": 4,
 "nbformat_minor": 4
}
