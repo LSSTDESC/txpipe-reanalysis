{
 "cells": [
  {
   "cell_type": "code",
   "execution_count": 1,
   "metadata": {},
   "outputs": [],
   "source": [
    "import h5py as h\n",
    "import numpy as np"
   ]
  },
  {
   "cell_type": "code",
   "execution_count": 2,
   "metadata": {},
   "outputs": [],
   "source": [
    "# response to an old Stack Overflow question of mine:\n",
    "# https://stackoverflow.com/questions/33529057/indices-that-intersect-and-sort-two-numpy-arrays\n",
    "def intersecting_indices(x, y):\n",
    "    u_x, u_idx_x = np.unique(x, return_index=True)\n",
    "    u_y, u_idx_y = np.unique(y, return_index=True)\n",
    "    i_xy = np.intersect1d(u_x, u_y, assume_unique=True)\n",
    "    i_idx_x = u_idx_x[np.in1d(u_x, i_xy, assume_unique=True)]\n",
    "    i_idx_y = u_idx_y[np.in1d(u_y, i_xy, assume_unique=True)]\n",
    "    return i_idx_x, i_idx_y"
   ]
  },
  {
   "cell_type": "code",
   "execution_count": 3,
   "metadata": {},
   "outputs": [],
   "source": [
    "dirname = '/global/projecta/projectdirs/lsst/groups/WL/projects/wl-txpipe-hack/DESY1/'\n",
    "#Load the files \n",
    "\n",
    "s = h.File(dirname+'shear_catalog_desy1.h5', 'r')\n",
    "p = h.File(dirname+'photometry_catalog.hdf5', 'r')"
   ]
  },
  {
   "cell_type": "code",
   "execution_count": 5,
   "metadata": {},
   "outputs": [
    {
     "name": "stdout",
     "output_type": "stream",
     "text": [
      "1.707580413967189\n"
     ]
    },
    {
     "name": "stderr",
     "output_type": "stream",
     "text": [
      "/global/common/software/lsst/common/miniconda/py3-4.5.12/envs/stack/lib/python3.7/site-packages/h5py/_hl/dataset.py:313: H5pyDeprecationWarning: dataset.value has been deprecated. Use dataset[()] instead.\n",
      "  \"Use dataset[()] instead.\", H5pyDeprecationWarning)\n"
     ]
    }
   ],
   "source": [
    "print(s['metacal/mean_z'].value[3])\n",
    "# remake this clean"
   ]
  },
  {
   "cell_type": "code",
   "execution_count": 6,
   "metadata": {},
   "outputs": [],
   "source": [
    "idxs, idxp = intersecting_indices(s['/metacal/objectId'].value, p['/photometry/objectId'].value)"
   ]
  },
  {
   "cell_type": "code",
   "execution_count": 7,
   "metadata": {},
   "outputs": [],
   "source": [
    "mcal_mask = (s['/metacal/mcal_flags'].value[idxs]==0)"
   ]
  },
  {
   "cell_type": "code",
   "execution_count": 8,
   "metadata": {},
   "outputs": [
    {
     "name": "stdout",
     "output_type": "stream",
     "text": [
      "136930995\n",
      "134678977\n",
      "34136250\n"
     ]
    }
   ],
   "source": [
    "print(len(s['/metacal/objectId'].value))\n",
    "print(len(s['/metacal/objectId'].value[idxs]))\n",
    "print(len(s['/metacal/objectId'].value[idxs][mcal_mask]))"
   ]
  },
  {
   "cell_type": "code",
   "execution_count": 10,
   "metadata": {},
   "outputs": [],
   "source": [
    "#Saving the data as h5file\n",
    "\n",
    "dnames = ['dec', 'mcal_T', 'mcal_T_1m', 'mcal_T_1p', 'mcal_T_2m', 'mcal_T_2p', 'mcal_flags', 'mcal_g1', 'mcal_g1_1m', 'mcal_g1_1p', 'mcal_g1_2m', 'mcal_g1_2p', 'mcal_g2', 'mcal_g2_1m', 'mcal_g2_1p', 'mcal_g2_2m', 'mcal_g2_2p', 'mcal_mag_err_i', 'mcal_mag_err_i_1m', 'mcal_mag_err_i_1p', 'mcal_mag_err_i_2m', 'mcal_mag_err_i_2p', 'mcal_mag_err_r', 'mcal_mag_err_r_1m', 'mcal_mag_err_r_1p', 'mcal_mag_err_r_2m', 'mcal_mag_err_r_2p', 'mcal_mag_err_z', 'mcal_mag_err_z_1m', 'mcal_mag_err_z_1p', 'mcal_mag_err_z_2m', 'mcal_mag_err_z_2p', 'mcal_mag_i', 'mcal_mag_i_1m', 'mcal_mag_i_1p', 'mcal_mag_i_2m', 'mcal_mag_i_2p', 'mcal_mag_r', 'mcal_mag_r_1m', 'mcal_mag_r_1p', 'mcal_mag_r_2m', 'mcal_mag_r_2p', 'mcal_mag_z', 'mcal_mag_z_1m', 'mcal_mag_z_1p', 'mcal_mag_z_2m', 'mcal_mag_z_2p', 'mcal_psf_T_mean', 'mcal_psf_g1', 'mcal_psf_g2', 'mcal_s2n', 'mcal_s2n_1m', 'mcal_s2n_1p', 'mcal_s2n_2m', 'mcal_s2n_2p', 'objectId', 'ra', 'snr_i', 'snr_r', 'snr_z', 'tilename', 'region', 'mean_z', 'mean_z_1p', 'mean_z_1m', 'mean_z_2p', 'mean_z_2m'] \n",
    " \n",
    "f = h.File('/global/projecta/projectdirs/lsst/groups/WL/projects/wl-txpipe-hack/DESY1/shear_catalog_desy1_merged.h5', 'w')\n",
    "g = f.create_group('metacal')\n",
    "for i in range(len(dnames)):\n",
    "    g.create_dataset(dnames[i], data=s['/metacal/'+dnames[i]].value[idxs][mcal_mask], dtype=s['/metacal/'+dnames[i]].dtype)\n",
    "f.close()\n",
    "\n",
    "s.close()"
   ]
  },
  {
   "cell_type": "code",
   "execution_count": 11,
   "metadata": {},
   "outputs": [
    {
     "data": {
      "text/plain": [
       "<KeysViewHDF5 ['dec', 'g_mag', 'g_mag_err', 'i_mag', 'i_mag_err', 'objectId', 'r_mag', 'r_mag_err', 'ra', 'snr_g', 'snr_i', 'snr_r', 'snr_u', 'snr_y', 'snr_z', 'u_mag', 'u_mag_err', 'y_mag', 'y_mag_err', 'z_mag', 'z_mag_err']>"
      ]
     },
     "execution_count": 11,
     "metadata": {},
     "output_type": "execute_result"
    }
   ],
   "source": [
    "p['photometry'].keys()"
   ]
  },
  {
   "cell_type": "code",
   "execution_count": 12,
   "metadata": {},
   "outputs": [],
   "source": [
    "dnames = ['dec', 'g_mag', 'g_mag_err', 'i_mag', 'i_mag_err', 'objectId', 'r_mag', 'r_mag_err', 'ra', 'snr_g', 'snr_i', 'snr_r', 'snr_u', 'snr_y', 'snr_z', 'u_mag', 'u_mag_err', 'y_mag', 'y_mag_err', 'z_mag', 'z_mag_err'] \n",
    " \n",
    "f = h.File('/global/projecta/projectdirs/lsst/groups/WL/projects/wl-txpipe-hack/DESY1/photometry_catalog_desy1_merged.h5', 'w')\n",
    "g = f.create_group('photometry')\n",
    "for i in range(len(dnames)):\n",
    "    g.create_dataset(dnames[i], data=p['/photometry/'+dnames[i]].value[idxp][mcal_mask], dtype=p['/photometry/'+dnames[i]].dtype)\n",
    "f.close()\n",
    "p.close()"
   ]
  },
  {
   "cell_type": "code",
   "execution_count": null,
   "metadata": {},
   "outputs": [],
   "source": []
  },
  {
   "cell_type": "code",
   "execution_count": null,
   "metadata": {},
   "outputs": [],
   "source": []
  },
  {
   "cell_type": "code",
   "execution_count": null,
   "metadata": {},
   "outputs": [],
   "source": []
  },
  {
   "cell_type": "code",
   "execution_count": 11,
   "metadata": {},
   "outputs": [],
   "source": [
    "dirname = '/global/projecta/projectdirs/lsst/groups/WL/projects/wl-txpipe-hack/DESY1/'\n",
    "#Load the files \n",
    "s2 = h.File(dirname+'shear_catalog_desy1_merged.h5')\n",
    "p2 = h.File(dirname+'photometry_catalog_desy1_merged.h5')"
   ]
  },
  {
   "cell_type": "code",
   "execution_count": 12,
   "metadata": {},
   "outputs": [],
   "source": [
    "region = s2['metacal/region'].value\n",
    "region = s2['metacal/region'].value"
   ]
  },
  {
   "cell_type": "code",
   "execution_count": 13,
   "metadata": {},
   "outputs": [
    {
     "data": {
      "text/plain": [
       "<KeysViewHDF5 ['dec', 'mcal_T', 'mcal_T_1m', 'mcal_T_1p', 'mcal_T_2m', 'mcal_T_2p', 'mcal_flags', 'mcal_g1', 'mcal_g1_1m', 'mcal_g1_1p', 'mcal_g1_2m', 'mcal_g1_2p', 'mcal_g2', 'mcal_g2_1m', 'mcal_g2_1p', 'mcal_g2_2m', 'mcal_g2_2p', 'mcal_mag_err_i', 'mcal_mag_err_i_1m', 'mcal_mag_err_i_1p', 'mcal_mag_err_i_2m', 'mcal_mag_err_i_2p', 'mcal_mag_err_r', 'mcal_mag_err_r_1m', 'mcal_mag_err_r_1p', 'mcal_mag_err_r_2m', 'mcal_mag_err_r_2p', 'mcal_mag_err_z', 'mcal_mag_err_z_1m', 'mcal_mag_err_z_1p', 'mcal_mag_err_z_2m', 'mcal_mag_err_z_2p', 'mcal_mag_i', 'mcal_mag_i_1m', 'mcal_mag_i_1p', 'mcal_mag_i_2m', 'mcal_mag_i_2p', 'mcal_mag_r', 'mcal_mag_r_1m', 'mcal_mag_r_1p', 'mcal_mag_r_2m', 'mcal_mag_r_2p', 'mcal_mag_z', 'mcal_mag_z_1m', 'mcal_mag_z_1p', 'mcal_mag_z_2m', 'mcal_mag_z_2p', 'mcal_psf_T_mean', 'mcal_psf_g1', 'mcal_psf_g2', 'mcal_s2n', 'mcal_s2n_1m', 'mcal_s2n_1p', 'mcal_s2n_2m', 'mcal_s2n_2p', 'mean_z', 'objectId', 'ra', 'region', 'snr_i', 'snr_r', 'snr_z', 'tilename']>"
      ]
     },
     "execution_count": 13,
     "metadata": {},
     "output_type": "execute_result"
    }
   ],
   "source": [
    "s2['metacal'].keys()"
   ]
  },
  {
   "cell_type": "code",
   "execution_count": 26,
   "metadata": {},
   "outputs": [],
   "source": [
    "i = p2['photometry/i_mag'].value"
   ]
  },
  {
   "cell_type": "code",
   "execution_count": 14,
   "metadata": {},
   "outputs": [
    {
     "data": {
      "text/plain": [
       "31111410"
      ]
     },
     "execution_count": 14,
     "metadata": {},
     "output_type": "execute_result"
    }
   ],
   "source": [
    "len(region[region==1])"
   ]
  },
  {
   "cell_type": "code",
   "execution_count": 15,
   "metadata": {},
   "outputs": [
    {
     "data": {
      "text/plain": [
       "3024840"
      ]
     },
     "execution_count": 15,
     "metadata": {},
     "output_type": "execute_result"
    }
   ],
   "source": [
    "len(region[region==2])"
   ]
  },
  {
   "cell_type": "code",
   "execution_count": 27,
   "metadata": {},
   "outputs": [
    {
     "name": "stdout",
     "output_type": "stream",
     "text": [
      "21.377972\n",
      "21.719982\n",
      "21.976526\n",
      "22.516352\n"
     ]
    }
   ],
   "source": [
    "meanz = np.nan_to_num(meanz)\n",
    "print(np.mean(i[(region==1)*(meanz>0.2)*(meanz<0.43)]))\n",
    "print(np.mean(i[(region==1)*(meanz>0.43)*(meanz<0.63)]))\n",
    "print(np.mean(i[(region==1)*(meanz>0.63)*(meanz<0.9)]))\n",
    "print(np.mean(i[(region==1)*(meanz>0.9)*(meanz<1.3)]))"
   ]
  },
  {
   "cell_type": "code",
   "execution_count": 30,
   "metadata": {},
   "outputs": [
    {
     "name": "stdout",
     "output_type": "stream",
     "text": [
      "1.4269418518518517\n",
      "1.4540205555555556\n",
      "1.5256568518518518\n",
      "0.7771557407407407\n"
     ]
    }
   ],
   "source": [
    "print(len(i[(region==1)*(meanz>0.2)*(meanz<0.43)])*1.0/1500/60/60)\n",
    "print(len(i[(region==1)*(meanz>0.43)*(meanz<0.63)])*1.0/1500/60/60)\n",
    "print(len(i[(region==1)*(meanz>0.63)*(meanz<0.9)])*1.0/1500/60/60)\n",
    "print(len(i[(region==1)*(meanz>0.9)*(meanz<1.3)])*1.0/1500/60/60)"
   ]
  },
  {
   "cell_type": "code",
   "execution_count": null,
   "metadata": {},
   "outputs": [],
   "source": [
    "# 1500 deg^2"
   ]
  }
 ],
 "metadata": {
  "kernelspec": {
   "display_name": "desc-python",
   "language": "python",
   "name": "desc-python"
  },
  "language_info": {
   "codemirror_mode": {
    "name": "ipython",
    "version": 3
   },
   "file_extension": ".py",
   "mimetype": "text/x-python",
   "name": "python",
   "nbconvert_exporter": "python",
   "pygments_lexer": "ipython3",
   "version": "3.7.2"
  }
 },
 "nbformat": 4,
 "nbformat_minor": 4
}
